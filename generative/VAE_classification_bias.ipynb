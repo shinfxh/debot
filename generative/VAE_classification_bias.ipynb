{
 "cells": [
  {
   "cell_type": "code",
   "execution_count": 24,
   "metadata": {},
   "outputs": [],
   "source": [
    "import torch\n",
    "import random\n",
    "from torchvision import datasets\n",
    "from torchvision import transforms\n",
    "from torch.utils.data import Dataset, DataLoader\n",
    "import matplotlib.pyplot as plt\n",
    "from tqdm.notebook import tqdm\n",
    "import numpy as np\n",
    "from mpl_toolkits.mplot3d import Axes3D\n",
    "import torch.nn.functional as F\n",
    "\n",
    "device = torch.device('cuda' if torch.cuda.is_available() else 'cpu')"
   ]
  },
  {
   "cell_type": "code",
   "execution_count": 2,
   "metadata": {},
   "outputs": [],
   "source": [
    "tensor_transform = transforms.ToTensor()\n",
    "\n",
    "batch_size = 256\n",
    "MNIST_dataset = datasets.MNIST(root = \"./data\",\n",
    "\t\t\t\t\t\t\t\t\ttrain = True,\n",
    "\t\t\t\t\t\t\t\t\tdownload = True,\n",
    "\t\t\t\t\t\t\t\t\ttransform = tensor_transform)\n",
    "\n",
    "MNIST_loader = torch.utils.data.DataLoader(dataset = MNIST_dataset,\n",
    "\t\t\t\t\t\t\t   batch_size = batch_size,\n",
    "\t\t\t\t\t\t\t\t shuffle = True)\n"
   ]
  },
  {
   "cell_type": "code",
   "execution_count": 3,
   "metadata": {},
   "outputs": [],
   "source": [
    "from math import e\n",
    "mse = torch.nn.MSELoss()\n",
    "\n",
    "def loss_func(model, x, reg_func=None, coeff=1e-3):\n",
    "    output = model(x)\n",
    "    err = mse(output['imgs'], x)\n",
    "    logpx_z = -1.0 * torch.sum(err)\n",
    "\n",
    "    if reg_func is not None:\n",
    "      reg = reg_func(output)\n",
    "    else:\n",
    "      reg = 0.0\n",
    "\n",
    "    return -1.0 * torch.mean(logpx_z + coeff * reg)\n",
    "\n",
    "def train(dataloader, model, loss_func, optimizer, epochs):\n",
    "    losses = []\n",
    "\n",
    "    for epoch in tqdm(range(epochs), desc='Epochs'):\n",
    "        running_loss = 0.0\n",
    "        batch_progress = tqdm(dataloader, desc='Batches', leave=False)\n",
    "\n",
    "        for iter, (images, labels) in enumerate(batch_progress):\n",
    "            batch_size = images.shape[0]\n",
    "            images = images.reshape(batch_size, -1).to(device)\n",
    "            loss = loss_func(model, images)\n",
    "\n",
    "            optimizer.zero_grad()\n",
    "            loss.backward()\n",
    "            optimizer.step()\n",
    "\n",
    "            running_loss += loss.item()\n",
    "            avg_loss = running_loss / len(MNIST_dataset) * batch_size\n",
    "            losses.append(loss.item())\n",
    "\n",
    "        tqdm.write(f'----\\nEpoch [{epoch+1}/{epochs}], Average Loss: {avg_loss:.4f}\\n')\n",
    "\n",
    "    return losses\n"
   ]
  },
  {
   "cell_type": "code",
   "execution_count": 4,
   "metadata": {},
   "outputs": [],
   "source": [
    "def plot_latent_images(model, n, digit_size=28):\n",
    "    grid_x = np.linspace(-2, 2, n)\n",
    "    grid_y = np.linspace(-2, 2, n)\n",
    "\n",
    "    image_width = digit_size * n\n",
    "    image_height = digit_size * n\n",
    "    image = np.zeros((image_height, image_width))\n",
    "\n",
    "    for i, yi in enumerate(grid_x):\n",
    "        for j, xi in enumerate(grid_y):\n",
    "            z = torch.tensor([[xi, yi]], dtype=torch.float32).to(device)\n",
    "            with torch.no_grad():\n",
    "                x_decoded = model.decode(z)\n",
    "            digit = x_decoded.view(digit_size, digit_size).cpu().numpy()\n",
    "            image[i * digit_size: (i + 1) * digit_size,\n",
    "                  j * digit_size: (j + 1) * digit_size] = digit\n",
    "\n",
    "    plt.figure(figsize=(10, 10))\n",
    "    plt.imshow(image, cmap='Greys_r')\n",
    "    plt.axis('Off')\n",
    "    plt.show()\n",
    "\n",
    "\n",
    "def eval(model):\n",
    "    original_imgs = torch.cat([MNIST_dataset[i][0] for i in range(5)])\n",
    "    with torch.no_grad():\n",
    "      res = model(original_imgs.reshape(5, -1).to(device))\n",
    "      reconstructed_imgs = res['imgs']\n",
    "      reconstructed_imgs = reconstructed_imgs.cpu().reshape(*original_imgs.shape)\n",
    "\n",
    "    fig, axes = plt.subplots(5, 2, figsize=(10, 25))\n",
    "\n",
    "    for i in range(5):\n",
    "        original_image = original_imgs[i].reshape(28, 28)\n",
    "        axes[i, 0].imshow(original_image, cmap='gray')\n",
    "        axes[i, 0].set_title(f'Original Image {i+1}')\n",
    "        axes[i, 0].axis('off')\n",
    "\n",
    "        reconstructed_image = reconstructed_imgs[i].reshape(28, 28)\n",
    "        axes[i, 1].imshow(reconstructed_image, cmap='gray')\n",
    "        axes[i, 1].set_title(f'Reconstructed Image {i+1}')\n",
    "        axes[i, 1].axis('off')\n",
    "\n",
    "    plt.tight_layout()\n",
    "    plt.show()\n"
   ]
  },
  {
   "cell_type": "code",
   "execution_count": 5,
   "metadata": {},
   "outputs": [],
   "source": [
    "class VAE(torch.nn.Module):\n",
    "  def __init__(self, input_dim, hidden_dims, decode_dim=-1, use_sigmoid=True):\n",
    "      '''\n",
    "      input_dim: The dimensionality of the input data.\n",
    "      hidden_dims: A list of hidden dimensions for the layers of the encoder and decoder.\n",
    "      decode_dim: (Optional) Specifies the dimensions to decode, if different from input_dim.\n",
    "      '''\n",
    "      super().__init__()\n",
    "\n",
    "      self.z_size = hidden_dims[-1] // 2\n",
    "\n",
    "      self.encoder = torch.nn.Sequential()\n",
    "      self.decoder = torch.nn.Sequential()\n",
    "      ##################\n",
    "      ### Problem 2(b): finish the implementation for encoder and decoder\n",
    "      ##################\n",
    "      self.encoding_dims = [input_dim] + hidden_dims\n",
    "      self.decoding_dims = [self.z_size] + self.encoding_dims[::-1]\n",
    "      if decode_dim != -1:\n",
    "          self.decoding_dims[-1] = decode_dim\n",
    "      encoder_layers = []\n",
    "      decoder_layers = []\n",
    "\n",
    "      for i, dim in enumerate(self.encoding_dims[:-1]):\n",
    "        encoder_layers.append(torch.nn.Linear(self.encoding_dims[i], self.encoding_dims[i+1]))\n",
    "        encoder_layers.append(torch.nn.GELU())\n",
    "\n",
    "      for i, dim in enumerate(self.decoding_dims[:-1]):\n",
    "        decoder_layers.append(torch.nn.Linear(self.decoding_dims[i], self.decoding_dims[i+1]))\n",
    "        decoder_layers.append(torch.nn.GELU())\n",
    "      self.encoder = torch.nn.Sequential(*encoder_layers[:-1])\n",
    "      self.decoder = torch.nn.Sequential(*decoder_layers[:-1])\n",
    "\n",
    "\n",
    "  def encode(self, x):\n",
    "      mean, logvar = torch.split(self.encoder(x), split_size_or_sections=[self.z_size, self.z_size], dim=-1)\n",
    "      return mean, logvar\n",
    "\n",
    "  def reparameterize(self, mean, logvar, n_samples_per_z=1):\n",
    "      ##################\n",
    "      ### Problem 2(c): finish the implementation for reparameterization\n",
    "      ##################\n",
    "      noise = torch.randn_like(logvar)\n",
    "      return mean + torch.exp(logvar * 0.5) * noise\n",
    "\n",
    "  def decode(self, z):\n",
    "      probs = self.decoder(z)\n",
    "      return probs\n",
    "\n",
    "  def forward(self, x, n_samples_per_z=1):\n",
    "      mean, logvar = self.encode(x)\n",
    "\n",
    "      batch_size, latent_dim = mean.shape\n",
    "      if n_samples_per_z > 1:\n",
    "        mean = mean.unsqueeze(1).expand(batch_size, n_samples_per_z, latent_dim)\n",
    "        logvar = logvar.unsqueeze(1).expand(batch_size, n_samples_per_z, latent_dim)\n",
    "\n",
    "        mean = mean.contiguous().view(batch_size * n_samples_per_z, latent_dim)\n",
    "        logvar = logvar.contiguous().view(batch_size * n_samples_per_z, latent_dim)\n",
    "\n",
    "      z = self.reparameterize(mean, logvar, n_samples_per_z)\n",
    "      x_probs = self.decode(z)\n",
    "\n",
    "      x_probs = x_probs.reshape(batch_size, n_samples_per_z, -1)\n",
    "      x_probs = torch.mean(x_probs, dim=[1])\n",
    "\n",
    "      return {\n",
    "          \"imgs\": x_probs,\n",
    "          \"z\": z,\n",
    "          \"mean\": mean,\n",
    "          \"logvar\": logvar\n",
    "      }\n",
    "\n",
    "### Test\n",
    "hidden_dims = [128, 64, 36, 18, 18]\n",
    "input_dim = 256\n",
    "test_tensor = torch.randn([1, input_dim]).to(device)\n",
    "\n",
    "vae_test = VAE(input_dim, hidden_dims).to(device)\n",
    "\n",
    "with torch.no_grad():\n",
    "  test_out = vae_test(test_tensor)\n"
   ]
  },
  {
   "cell_type": "code",
   "execution_count": 6,
   "metadata": {},
   "outputs": [],
   "source": [
    "##### Loss 1: SGVB #####\n",
    "log2pi = torch.log(2.0 * torch.tensor(np.pi)).to(device)\n",
    "torch_zero = torch.tensor(0.0).to(device)\n",
    "\n",
    "def log_normal_pdf(sample, mean, logvar, raxis=1):\n",
    "    ##################\n",
    "    ### Problem 2(d): finish the implementation for the log-probability for normal distribution with mean and var\n",
    "    ##################\n",
    "    var = torch.exp(logvar)\n",
    "    logp = -0.5 * ((sample - mean)**2/var +log2pi + logvar) \n",
    "    return torch.sum(logp, axis=raxis)\n",
    "\n",
    "def loss_SGVB(output):\n",
    "    logpz = log_normal_pdf(output['z'], torch_zero, torch_zero)\n",
    "    logqz_x = log_normal_pdf(output['z'], output['mean'], output['logvar'])\n",
    "    return logpz -logqz_x\n"
   ]
  },
  {
   "cell_type": "code",
   "execution_count": 7,
   "metadata": {},
   "outputs": [],
   "source": [
    "##### Loss 2: KL w/o Estimation #####\n",
    "def loss_KL_wo_E(output):\n",
    "    var = torch.exp(output['logvar'])\n",
    "    logvar = output['logvar']\n",
    "    mean = output['mean']\n",
    "\n",
    "    return -0.5 * torch.sum(torch.pow(mean, 2)\n",
    "                            + var - 1.0 - logvar,\n",
    "                            dim=[1])\n"
   ]
  },
  {
   "cell_type": "code",
   "execution_count": 8,
   "metadata": {},
   "outputs": [
    {
     "name": "stdout",
     "output_type": "stream",
     "text": [
      "input_dim:  784\n",
      "VAE(\n",
      "  (encoder): Sequential(\n",
      "    (0): Linear(in_features=784, out_features=128, bias=True)\n",
      "    (1): GELU(approximate='none')\n",
      "    (2): Linear(in_features=128, out_features=32, bias=True)\n",
      "    (3): GELU(approximate='none')\n",
      "    (4): Linear(in_features=32, out_features=16, bias=True)\n",
      "    (5): GELU(approximate='none')\n",
      "    (6): Linear(in_features=16, out_features=4, bias=True)\n",
      "  )\n",
      "  (decoder): Sequential(\n",
      "    (0): Linear(in_features=2, out_features=4, bias=True)\n",
      "    (1): GELU(approximate='none')\n",
      "    (2): Linear(in_features=4, out_features=16, bias=True)\n",
      "    (3): GELU(approximate='none')\n",
      "    (4): Linear(in_features=16, out_features=32, bias=True)\n",
      "    (5): GELU(approximate='none')\n",
      "    (6): Linear(in_features=32, out_features=128, bias=True)\n",
      "    (7): GELU(approximate='none')\n",
      "    (8): Linear(in_features=128, out_features=784, bias=True)\n",
      "  )\n",
      ")\n"
     ]
    },
    {
     "data": {
      "application/vnd.jupyter.widget-view+json": {
       "model_id": "5415bbb822f94579bc0fbf721928dc70",
       "version_major": 2,
       "version_minor": 0
      },
      "text/plain": [
       "Epochs:   0%|          | 0/20 [00:00<?, ?it/s]"
      ]
     },
     "metadata": {},
     "output_type": "display_data"
    },
    {
     "data": {
      "application/vnd.jupyter.widget-view+json": {
       "model_id": "4757be77db1d47b59b27939578ee7893",
       "version_major": 2,
       "version_minor": 0
      },
      "text/plain": [
       "Batches:   0%|          | 0/235 [00:00<?, ?it/s]"
      ]
     },
     "metadata": {},
     "output_type": "display_data"
    },
    {
     "name": "stdout",
     "output_type": "stream",
     "text": [
      "----\n",
      "Epoch [1/20], Average Loss: 0.0220\n",
      "\n"
     ]
    },
    {
     "data": {
      "application/vnd.jupyter.widget-view+json": {
       "model_id": "3496aa910cc047fdaae55394e2e3b03c",
       "version_major": 2,
       "version_minor": 0
      },
      "text/plain": [
       "Batches:   0%|          | 0/235 [00:00<?, ?it/s]"
      ]
     },
     "metadata": {},
     "output_type": "display_data"
    },
    {
     "name": "stdout",
     "output_type": "stream",
     "text": [
      "----\n",
      "Epoch [2/20], Average Loss: 0.0178\n",
      "\n"
     ]
    },
    {
     "data": {
      "application/vnd.jupyter.widget-view+json": {
       "model_id": "53a602da3edf473f89fc9b762a9dca46",
       "version_major": 2,
       "version_minor": 0
      },
      "text/plain": [
       "Batches:   0%|          | 0/235 [00:00<?, ?it/s]"
      ]
     },
     "metadata": {},
     "output_type": "display_data"
    },
    {
     "name": "stdout",
     "output_type": "stream",
     "text": [
      "----\n",
      "Epoch [3/20], Average Loss: 0.0163\n",
      "\n"
     ]
    },
    {
     "data": {
      "application/vnd.jupyter.widget-view+json": {
       "model_id": "ab9c7606161f47e8ba8f20d45731abf7",
       "version_major": 2,
       "version_minor": 0
      },
      "text/plain": [
       "Batches:   0%|          | 0/235 [00:00<?, ?it/s]"
      ]
     },
     "metadata": {},
     "output_type": "display_data"
    },
    {
     "name": "stdout",
     "output_type": "stream",
     "text": [
      "----\n",
      "Epoch [4/20], Average Loss: 0.0157\n",
      "\n"
     ]
    },
    {
     "data": {
      "application/vnd.jupyter.widget-view+json": {
       "model_id": "d938081a6fd8465e87e74c7d66895a4c",
       "version_major": 2,
       "version_minor": 0
      },
      "text/plain": [
       "Batches:   0%|          | 0/235 [00:00<?, ?it/s]"
      ]
     },
     "metadata": {},
     "output_type": "display_data"
    },
    {
     "name": "stdout",
     "output_type": "stream",
     "text": [
      "----\n",
      "Epoch [5/20], Average Loss: 0.0153\n",
      "\n"
     ]
    },
    {
     "data": {
      "application/vnd.jupyter.widget-view+json": {
       "model_id": "c5d1ed6ce3f74511a545627265d18739",
       "version_major": 2,
       "version_minor": 0
      },
      "text/plain": [
       "Batches:   0%|          | 0/235 [00:00<?, ?it/s]"
      ]
     },
     "metadata": {},
     "output_type": "display_data"
    },
    {
     "name": "stdout",
     "output_type": "stream",
     "text": [
      "----\n",
      "Epoch [6/20], Average Loss: 0.0150\n",
      "\n"
     ]
    },
    {
     "data": {
      "application/vnd.jupyter.widget-view+json": {
       "model_id": "9ff9b2dfd390433985b159353b90b4c1",
       "version_major": 2,
       "version_minor": 0
      },
      "text/plain": [
       "Batches:   0%|          | 0/235 [00:00<?, ?it/s]"
      ]
     },
     "metadata": {},
     "output_type": "display_data"
    },
    {
     "name": "stdout",
     "output_type": "stream",
     "text": [
      "----\n",
      "Epoch [7/20], Average Loss: 0.0150\n",
      "\n"
     ]
    },
    {
     "data": {
      "application/vnd.jupyter.widget-view+json": {
       "model_id": "72521e79a3504e94bca1946223beda15",
       "version_major": 2,
       "version_minor": 0
      },
      "text/plain": [
       "Batches:   0%|          | 0/235 [00:00<?, ?it/s]"
      ]
     },
     "metadata": {},
     "output_type": "display_data"
    },
    {
     "name": "stdout",
     "output_type": "stream",
     "text": [
      "----\n",
      "Epoch [8/20], Average Loss: 0.0148\n",
      "\n"
     ]
    },
    {
     "data": {
      "application/vnd.jupyter.widget-view+json": {
       "model_id": "18357da2204344e5b2dfd638cc693282",
       "version_major": 2,
       "version_minor": 0
      },
      "text/plain": [
       "Batches:   0%|          | 0/235 [00:00<?, ?it/s]"
      ]
     },
     "metadata": {},
     "output_type": "display_data"
    },
    {
     "name": "stdout",
     "output_type": "stream",
     "text": [
      "----\n",
      "Epoch [9/20], Average Loss: 0.0147\n",
      "\n"
     ]
    },
    {
     "data": {
      "application/vnd.jupyter.widget-view+json": {
       "model_id": "a157612dbf04438e9caad6066169bb3b",
       "version_major": 2,
       "version_minor": 0
      },
      "text/plain": [
       "Batches:   0%|          | 0/235 [00:00<?, ?it/s]"
      ]
     },
     "metadata": {},
     "output_type": "display_data"
    },
    {
     "name": "stdout",
     "output_type": "stream",
     "text": [
      "----\n",
      "Epoch [10/20], Average Loss: 0.0146\n",
      "\n"
     ]
    },
    {
     "data": {
      "application/vnd.jupyter.widget-view+json": {
       "model_id": "9c9fdea17d5f48fd94c9501200b7c8cd",
       "version_major": 2,
       "version_minor": 0
      },
      "text/plain": [
       "Batches:   0%|          | 0/235 [00:00<?, ?it/s]"
      ]
     },
     "metadata": {},
     "output_type": "display_data"
    },
    {
     "name": "stdout",
     "output_type": "stream",
     "text": [
      "----\n",
      "Epoch [11/20], Average Loss: 0.0145\n",
      "\n"
     ]
    },
    {
     "data": {
      "application/vnd.jupyter.widget-view+json": {
       "model_id": "2bc8ed666a0544a48b40431fa1042e06",
       "version_major": 2,
       "version_minor": 0
      },
      "text/plain": [
       "Batches:   0%|          | 0/235 [00:00<?, ?it/s]"
      ]
     },
     "metadata": {},
     "output_type": "display_data"
    },
    {
     "name": "stdout",
     "output_type": "stream",
     "text": [
      "----\n",
      "Epoch [12/20], Average Loss: 0.0145\n",
      "\n"
     ]
    },
    {
     "data": {
      "application/vnd.jupyter.widget-view+json": {
       "model_id": "9c807ad1b7c34a44bf3b37632e4154c1",
       "version_major": 2,
       "version_minor": 0
      },
      "text/plain": [
       "Batches:   0%|          | 0/235 [00:00<?, ?it/s]"
      ]
     },
     "metadata": {},
     "output_type": "display_data"
    },
    {
     "name": "stdout",
     "output_type": "stream",
     "text": [
      "----\n",
      "Epoch [13/20], Average Loss: 0.0144\n",
      "\n"
     ]
    },
    {
     "data": {
      "application/vnd.jupyter.widget-view+json": {
       "model_id": "6bf0453f38a141f0b44e182f8cade760",
       "version_major": 2,
       "version_minor": 0
      },
      "text/plain": [
       "Batches:   0%|          | 0/235 [00:00<?, ?it/s]"
      ]
     },
     "metadata": {},
     "output_type": "display_data"
    },
    {
     "name": "stdout",
     "output_type": "stream",
     "text": [
      "----\n",
      "Epoch [14/20], Average Loss: 0.0144\n",
      "\n"
     ]
    },
    {
     "data": {
      "application/vnd.jupyter.widget-view+json": {
       "model_id": "94609d7febb84a2aa40d53c55941c863",
       "version_major": 2,
       "version_minor": 0
      },
      "text/plain": [
       "Batches:   0%|          | 0/235 [00:00<?, ?it/s]"
      ]
     },
     "metadata": {},
     "output_type": "display_data"
    },
    {
     "name": "stdout",
     "output_type": "stream",
     "text": [
      "----\n",
      "Epoch [15/20], Average Loss: 0.0144\n",
      "\n"
     ]
    },
    {
     "data": {
      "application/vnd.jupyter.widget-view+json": {
       "model_id": "6c676cca1c7a43ccb07b3585a962f35c",
       "version_major": 2,
       "version_minor": 0
      },
      "text/plain": [
       "Batches:   0%|          | 0/235 [00:00<?, ?it/s]"
      ]
     },
     "metadata": {},
     "output_type": "display_data"
    },
    {
     "name": "stdout",
     "output_type": "stream",
     "text": [
      "----\n",
      "Epoch [16/20], Average Loss: 0.0142\n",
      "\n"
     ]
    },
    {
     "data": {
      "application/vnd.jupyter.widget-view+json": {
       "model_id": "941b2707b258472588e66d809c193590",
       "version_major": 2,
       "version_minor": 0
      },
      "text/plain": [
       "Batches:   0%|          | 0/235 [00:00<?, ?it/s]"
      ]
     },
     "metadata": {},
     "output_type": "display_data"
    },
    {
     "name": "stdout",
     "output_type": "stream",
     "text": [
      "----\n",
      "Epoch [17/20], Average Loss: 0.0142\n",
      "\n"
     ]
    },
    {
     "data": {
      "application/vnd.jupyter.widget-view+json": {
       "model_id": "f6b8db83103c46cbac64b42f1cd8496e",
       "version_major": 2,
       "version_minor": 0
      },
      "text/plain": [
       "Batches:   0%|          | 0/235 [00:00<?, ?it/s]"
      ]
     },
     "metadata": {},
     "output_type": "display_data"
    },
    {
     "name": "stdout",
     "output_type": "stream",
     "text": [
      "----\n",
      "Epoch [18/20], Average Loss: 0.0141\n",
      "\n"
     ]
    },
    {
     "data": {
      "application/vnd.jupyter.widget-view+json": {
       "model_id": "38fd3f9b92374bf3b6d07798d44cf415",
       "version_major": 2,
       "version_minor": 0
      },
      "text/plain": [
       "Batches:   0%|          | 0/235 [00:00<?, ?it/s]"
      ]
     },
     "metadata": {},
     "output_type": "display_data"
    },
    {
     "name": "stdout",
     "output_type": "stream",
     "text": [
      "----\n",
      "Epoch [19/20], Average Loss: 0.0141\n",
      "\n"
     ]
    },
    {
     "data": {
      "application/vnd.jupyter.widget-view+json": {
       "model_id": "fd3f3dfaa99c4529bf524eb91f68a10a",
       "version_major": 2,
       "version_minor": 0
      },
      "text/plain": [
       "Batches:   0%|          | 0/235 [00:00<?, ?it/s]"
      ]
     },
     "metadata": {},
     "output_type": "display_data"
    },
    {
     "name": "stdout",
     "output_type": "stream",
     "text": [
      "----\n",
      "Epoch [20/20], Average Loss: 0.0140\n",
      "\n"
     ]
    }
   ],
   "source": [
    "##################\n",
    "### Problem 3(c): Train VAE with ELBO loss\n",
    "epochs = 20\n",
    "\n",
    "hidden_dims = [128, 32, 16, 4]\n",
    "assert hidden_dims[-1] == 4, \"always use 4 as the latent dimension for generating a 2D image grid during evaluation\"\n",
    "\n",
    "image_shape = MNIST_dataset[0][0].shape\n",
    "input_dim = torch.prod(torch.tensor(image_shape)).item()\n",
    "print(\"input_dim: \", input_dim)\n",
    "\n",
    "vae_sgvb = VAE(input_dim, hidden_dims).to(device)\n",
    "print(vae_sgvb)\n",
    "\n",
    "coeff = 1e-4\n",
    "\n",
    "optimizer_vae_sgvb = torch.optim.Adam(vae_sgvb.parameters(),\n",
    "                                lr = 5e-3,\n",
    "                                weight_decay = 1e-8)\n",
    "\n",
    "log_vae_sgvb = train(MNIST_loader, vae_sgvb, lambda model, x: loss_func(model, x, reg_func=loss_SGVB, coeff=coeff), optimizer_vae_sgvb, epochs)\n",
    "##################\n"
   ]
  },
  {
   "cell_type": "code",
   "execution_count": 9,
   "metadata": {},
   "outputs": [
    {
     "data": {
      "image/png": "[encoded data removed]",
      "text/plain": [
       "<Figure size 1000x2500 with 10 Axes>"
      ]
     },
     "metadata": {},
     "output_type": "display_data"
    },
    {
     "data": {
      "image/png": "[encoded data removed]",
      "text/plain": [
       "<Figure size 1000x1000 with 1 Axes>"
      ]
     },
     "metadata": {},
     "output_type": "display_data"
    }
   ],
   "source": [
    "##################\n",
    "### Problem 3(c): Evaluate VAE with ELBO loss\n",
    "eval(vae_sgvb)\n",
    "plot_latent_images(vae_sgvb, n=8)\n",
    "##################\n"
   ]
  },
  {
   "cell_type": "code",
   "execution_count": 10,
   "metadata": {},
   "outputs": [],
   "source": [
    "def calculate_class_latents(vae_model, dataloader, num_classes=10, device='cuda'):\n",
    "    \"\"\"\n",
    "    Compute the average latent vector for each class using training data.\n",
    "    \n",
    "    Args:\n",
    "        vae_model (VAE): The trained VAE model.\n",
    "        dataloader (torch.utils.data.DataLoader): DataLoader containing the dataset.\n",
    "        num_classes (int): Number of classes (default: 10 for MNIST).\n",
    "        device (str): Device for computation.\n",
    "    \n",
    "    Returns:\n",
    "        torch.Tensor: Averaged latent vectors for each class of shape (num_classes, latent_dim).\n",
    "    \"\"\"\n",
    "    class_latents = {i: [] for i in range(num_classes)}  # Dictionary to store latents per class\n",
    "    \n",
    "    vae_model.eval()\n",
    "    with torch.no_grad():\n",
    "        for images, labels in tqdm(dataloader, desc='Calculating Class Latents'):\n",
    "            images = images.to(device)\n",
    "            labels = labels.to(device)\n",
    "            \n",
    "            # Flatten the images for the encoder\n",
    "            images_flat = images.view(images.size(0), -1)\n",
    "            \n",
    "            # Encode to latent space\n",
    "            mean, log_var = vae_model.encode(images_flat)\n",
    "            latent = mean  # Use the mean as the latent representation\n",
    "            \n",
    "            # Store latents by class\n",
    "            for i in range(images.size(0)):\n",
    "                class_latents[labels[i].item()].append(latent[i].cpu())\n",
    "    \n",
    "    # Compute the average latent vector for each class\n",
    "    avg_latents = torch.zeros((num_classes, vae_model.z_size))\n",
    "    for class_label, latents in class_latents.items():\n",
    "        avg_latents[class_label] = torch.stack(latents).mean(dim=0)\n",
    "    \n",
    "    return avg_latents.to(device)\n",
    "\n",
    "\n",
    "def classify_with_vae_avg(vae_model, input_image, avg_latents, num_classes=10):\n",
    "    \"\"\"\n",
    "    Classify an input image using a trained VAE and average class latent vectors.\n",
    "    \n",
    "    Args:\n",
    "        vae_model (VAE): The trained VAE model.\n",
    "        input_image (torch.Tensor): The input image tensor of shape (1, 28, 28).\n",
    "        avg_latents (torch.Tensor): Averaged latent vectors for each class.\n",
    "        num_classes (int): Number of classes (default: 10 for MNIST).\n",
    "    \n",
    "    Returns:\n",
    "        int: The predicted class label.\n",
    "    \"\"\"\n",
    "    # Ensure the input image is in the correct format\n",
    "    if input_image.ndim == 3:\n",
    "        input_image = input_image.unsqueeze(0)  # Add batch dimension\n",
    "\n",
    "    # Flatten the input image for L2 comparison\n",
    "    input_image_flat = input_image.view(input_image.size(0), -1)\n",
    "\n",
    "    closest_label = -1\n",
    "    min_distance = float('inf')\n",
    "\n",
    "    for class_label in range(num_classes):\n",
    "        # Decode the average latent vector for the class\n",
    "        generated_image = vae_model.decode(avg_latents[class_label].unsqueeze(0))\n",
    "        generated_image_flat = generated_image.view(generated_image.size(0), -1)  # Flatten generated image\n",
    "\n",
    "        # Compute L2 distance\n",
    "        l2_distance = torch.norm(input_image_flat - generated_image_flat, p=2)\n",
    "\n",
    "        # Update closest label if distance is smaller\n",
    "        if l2_distance < min_distance:\n",
    "            min_distance = l2_distance\n",
    "            closest_label = class_label\n",
    "\n",
    "    return closest_label\n",
    "\n",
    "\n",
    "def classification_eval_avg(dataloader, model, avg_latents, num_classes=10, epochs=1):\n",
    "    \"\"\"\n",
    "    Evaluate the classification performance of the VAE-based classifier using averaged latents.\n",
    "    \n",
    "    Args:\n",
    "        dataloader (torch.utils.data.DataLoader): DataLoader for the dataset.\n",
    "        model (torch.nn.Module): Trained VAE model.\n",
    "        avg_latents (torch.Tensor): Averaged latent vectors for each class.\n",
    "        num_classes (int): Number of classes.\n",
    "        epochs (int): Number of evaluation epochs.\n",
    "    \n",
    "    Returns:\n",
    "        list: Average accuracy per epoch.\n",
    "    \"\"\"\n",
    "    accuracies = []\n",
    "\n",
    "    for epoch in tqdm(range(epochs), desc='Epochs'):\n",
    "        correct_predictions = 0\n",
    "        total_predictions = 0\n",
    "        batch_progress = tqdm(dataloader, desc='Batches', leave=False)\n",
    "\n",
    "        for iter, (images, labels) in enumerate(batch_progress):\n",
    "            batch_size = images.shape[0]\n",
    "            images = images.to(device)\n",
    "            labels = labels.to(device)\n",
    "\n",
    "            # Predict labels for the batch\n",
    "            pred_labels = []\n",
    "            for image in images:\n",
    "                pred_label = classify_with_vae_avg(model, image, avg_latents, num_classes=num_classes)\n",
    "                pred_labels.append(pred_label)\n",
    "\n",
    "            # Convert to tensor\n",
    "            pred_labels = torch.tensor(pred_labels, device=device)\n",
    "\n",
    "            # Calculate accuracy for the batch\n",
    "            correct_predictions += (pred_labels == labels).sum().item()\n",
    "            total_predictions += batch_size\n",
    "\n",
    "        # Calculate average accuracy for the epoch\n",
    "        epoch_accuracy = correct_predictions / total_predictions\n",
    "        accuracies.append(epoch_accuracy)\n",
    "\n",
    "        tqdm.write(f'----\\nEpoch [{epoch+1}/{epochs}], Average Acc: {epoch_accuracy:.4f}\\n')\n",
    "\n",
    "    return accuracies\n"
   ]
  },
  {
   "cell_type": "code",
   "execution_count": 11,
   "metadata": {},
   "outputs": [
    {
     "data": {
      "application/vnd.jupyter.widget-view+json": {
       "model_id": "00af307cdffa4aa694996ff0a0f14ad0",
       "version_major": 2,
       "version_minor": 0
      },
      "text/plain": [
       "Calculating Class Latents:   0%|          | 0/235 [00:00<?, ?it/s]"
      ]
     },
     "metadata": {},
     "output_type": "display_data"
    }
   ],
   "source": [
    "avg_latents = calculate_class_latents(vae_model=vae_sgvb, \n",
    "                                      dataloader=MNIST_loader, \n",
    "                                      num_classes=10, \n",
    "                                      device=device)"
   ]
  },
  {
   "cell_type": "code",
   "execution_count": 12,
   "metadata": {},
   "outputs": [
    {
     "data": {
      "application/vnd.jupyter.widget-view+json": {
       "model_id": "1ca0d19cf5a34a9f98749a43165d3ffe",
       "version_major": 2,
       "version_minor": 0
      },
      "text/plain": [
       "Epochs:   0%|          | 0/1 [00:00<?, ?it/s]"
      ]
     },
     "metadata": {},
     "output_type": "display_data"
    },
    {
     "data": {
      "application/vnd.jupyter.widget-view+json": {
       "model_id": "bba9c1ef7bc742c581a485ffa90ec672",
       "version_major": 2,
       "version_minor": 0
      },
      "text/plain": [
       "Batches:   0%|          | 0/235 [00:00<?, ?it/s]"
      ]
     },
     "metadata": {},
     "output_type": "display_data"
    },
    {
     "name": "stdout",
     "output_type": "stream",
     "text": [
      "----\n",
      "Epoch [1/1], Average Acc: 0.6150\n",
      "\n",
      "Final Accuracy: 0.6150\n"
     ]
    }
   ],
   "source": [
    "# Assuming MNIST_loader is your DataLoader and vae_model is your trained VAE instance\n",
    "vae_sgvb.eval()  # Set the model to evaluation mode\n",
    "\n",
    "# Evaluate classification performance\n",
    "accuracies = classification_eval_avg(MNIST_loader, vae_sgvb, avg_latents, num_classes=10, epochs=1)\n",
    "print(f'Final Accuracy: {accuracies[-1]:.4f}')\n"
   ]
  },
  {
   "cell_type": "code",
   "execution_count": 32,
   "metadata": {},
   "outputs": [],
   "source": [
    "def split_data(train_dataset):\n",
    "    \"\"\"\n",
    "    Splits the dataset by class labels into a dictionary of lists.\n",
    "    \"\"\"\n",
    "    data = {x: [] for x in range(10)}  # Initialize dictionary for 10 classes\n",
    "    for img, label in train_dataset:\n",
    "        data[label].append((img, label))  # Append each sample to the corresponding label key\n",
    "    return data\n",
    "\n",
    "def create_biased_dataset(data, probs):\n",
    "    \"\"\"\n",
    "    Creates a biased dataset according to the given probabilities.\n",
    "\n",
    "    Parameters:\n",
    "        data: Dictionary with label keys and corresponding (image, label) lists\n",
    "        probs: List of probabilities for each class\n",
    "    \n",
    "    Returns:\n",
    "        A biased list of (image, label) samples.\n",
    "    \"\"\"\n",
    "    max_p = max(probs)  # Find the maximum probability\n",
    "    max_x = np.argmax(probs)  # Find the class with the maximum probability\n",
    "    max_n = int(0.9 * len(data[max_x]))  # Determine the maximum number of samples\n",
    "    res = []\n",
    "\n",
    "    for x, samples in data.items():\n",
    "        n = int(max_n * probs[x] / max_p)  # Scale the number of samples for each class\n",
    "        res += random.sample(samples, n)  # Randomly sample 'n' items from the current class\n",
    "\n",
    "    random.shuffle(res)  # Shuffle the entire biased dataset\n",
    "    return res\n",
    "\n",
    "data_class = split_data(MNIST_dataset)"
   ]
  },
  {
   "cell_type": "code",
   "execution_count": 65,
   "metadata": {},
   "outputs": [],
   "source": [
    "class BiasedVAEClassifier:\n",
    "    def __init__(self, vae_model, n_classes=10, device='cuda'):\n",
    "        \"\"\"\n",
    "        Biased VAE Classifier that adjusts class thresholds based on biases.\n",
    "        \n",
    "        Args:\n",
    "            vae_model: Trained VAE model.\n",
    "            n_classes (int): Number of classes (default: 10 for MNIST).\n",
    "            device (str): Device for computation (default: 'cuda').\n",
    "        \"\"\"\n",
    "        self.vae_model = vae_model\n",
    "        self.n_classes = n_classes\n",
    "        self.counts = [0 for _ in range(n_classes)]\n",
    "        self.pys = [1 / n_classes for _ in range(n_classes)]\n",
    "        self.device = device\n",
    "\n",
    "    def predict_proba(self, X, avg_latents):\n",
    "        \"\"\"\n",
    "        Predict class probabilities for the input using the VAE model.\n",
    "\n",
    "        Args:\n",
    "            X (torch.Tensor): Input images.\n",
    "            avg_latents (torch.Tensor): Averaged latent representations for each class.\n",
    "        \n",
    "        Returns:\n",
    "            torch.Tensor: Predicted probabilities for each class.\n",
    "        \"\"\"\n",
    "        probabilities = []\n",
    "        for xi in X:\n",
    "            errs = []\n",
    "            for class_idx in range(self.n_classes):\n",
    "                latent = avg_latents[class_idx].to(self.device)  # Use avg_latents passed explicitly\n",
    "                generated_image = self.vae_model.decode(latent.unsqueeze(0))\n",
    "                err = torch.norm(xi.view(-1) - generated_image.view(-1), p=2)\n",
    "                errs.append(err.item())\n",
    "\n",
    "            # Compute probabilities using exp(-Err^2)\n",
    "            errs = torch.tensor(errs, device=self.device)\n",
    "            exp_neg_squared = torch.exp(-errs**2)\n",
    "            probs = exp_neg_squared / exp_neg_squared.sum()  # Normalize probabilities\n",
    "            probabilities.append(probs)\n",
    "\n",
    "        return torch.stack(probabilities)\n",
    "\n",
    "    def predict(self, X, avg_latents):\n",
    "        \"\"\"\n",
    "        Predict class labels for the input.\n",
    "\n",
    "        Args:\n",
    "            X (torch.Tensor): Input images.\n",
    "            avg_latents (torch.Tensor): Averaged latent representations for each class.\n",
    "        \n",
    "        Returns:\n",
    "            torch.Tensor: Predicted class labels.\n",
    "        \"\"\"\n",
    "        proba = self.predict_proba(X, avg_latents)\n",
    "        return torch.argmax(proba * torch.tensor(self.pys, device=self.device), dim=1)\n",
    "\n",
    "    def predict_biased_online(self, X, y, avg_latents):\n",
    "        \"\"\"\n",
    "        Online prediction with dynamic threshold adjustments.\n",
    "\n",
    "        Args:\n",
    "            X (torch.Tensor): Input images.\n",
    "            y (torch.Tensor): True labels.\n",
    "            avg_latents (torch.Tensor): Averaged latent representations for each class.\n",
    "            alpha (float): Learning rate for threshold adjustment.\n",
    "        \n",
    "        Returns:\n",
    "            tuple: Predicted labels, threshold history, and probability history.\n",
    "        \"\"\"\n",
    "        res = []\n",
    "\n",
    "        for xi, yi in zip(X, y):\n",
    "            proba = self.predict_proba(xi.unsqueeze(0), avg_latents)\n",
    "            predicted_class = torch.argmax(proba * torch.tensor(self.pys, device=self.device)).item()\n",
    "            res.append(predicted_class)\n",
    "\n",
    "            if predicted_class == yi.item():\n",
    "                self.counts[yi.item()] += 1\n",
    "            else:\n",
    "                for j in range(self.n_classes):\n",
    "                    if j == yi.item():\n",
    "                        continue\n",
    "                    self.counts[j] += 1/9\n",
    "            \n",
    "            self.pys = [x / sum(self.counts) for x in self.counts]\n",
    "\n",
    "        return torch.tensor(res, device=self.device)"
   ]
  },
  {
   "cell_type": "code",
   "execution_count": 76,
   "metadata": {},
   "outputs": [],
   "source": [
    "\n",
    "def biased_eval(dataloader, model, avg_latents, method='online'):\n",
    "    \"\"\"\n",
    "    Evaluate the classification performance of the VAE-based classifier using averaged latents.\n",
    "    \n",
    "    Args:\n",
    "        dataloader (torch.utils.data.DataLoader): DataLoader for the dataset.\n",
    "        model (torch.nn.Module): Trained VAE model.\n",
    "        avg_latents (torch.Tensor): Averaged latent vectors for each class.\n",
    "    \n",
    "    Returns:\n",
    "        acc: classification accuracy\n",
    "    \"\"\"\n",
    "    accuracies = []\n",
    "\n",
    "    correct_predictions = 0\n",
    "    total_predictions = 0\n",
    "    batch_progress = tqdm(dataloader, desc='Batches', leave=False)\n",
    "\n",
    "    for iter, (images, labels) in enumerate(batch_progress):\n",
    "        batch_size = images.shape[0]\n",
    "        images = images.to(device)\n",
    "        labels = labels.to(device)\n",
    "\n",
    "        # Predict labels for the batch\n",
    "        pred_labels = []\n",
    "        if method == 'online':\n",
    "            pred_labels = model.predict_biased_online(images, labels, avg_latents)\n",
    "        else:\n",
    "            pred_labels = model.predict(images, avg_latents)\n",
    "        # for image in images:\n",
    "        #     pred_label = model.predict_biased_online(image, )\n",
    "        #     pred_labels.append(pred_label)\n",
    "\n",
    "        # Convert to tensor\n",
    "        pred_labels = torch.tensor(pred_labels, device=device)\n",
    "\n",
    "        # Calculate accuracy for the batch\n",
    "        correct_predictions += (pred_labels == labels).sum().item()\n",
    "        total_predictions += batch_size\n",
    "\n",
    "        # Calculate average accuracy for the epoch\n",
    "        epoch_accuracy = correct_predictions / total_predictions\n",
    "        accuracies.append(epoch_accuracy)\n",
    "\n",
    "    return correct_predictions / total_predictions\n"
   ]
  },
  {
   "cell_type": "code",
   "execution_count": 77,
   "metadata": {},
   "outputs": [
    {
     "data": {
      "application/vnd.jupyter.widget-view+json": {
       "model_id": "0adc4c407bec4a079418a03b5ff4f5f3",
       "version_major": 2,
       "version_minor": 0
      },
      "text/plain": [
       "Batches:   0%|          | 0/24 [00:00<?, ?it/s]"
      ]
     },
     "metadata": {},
     "output_type": "display_data"
    },
    {
     "name": "stderr",
     "output_type": "stream",
     "text": [
      "/var/folders/pc/5g9dw3292854702nd5f53qp00000gq/T/ipykernel_89328/2230381531.py:35: UserWarning: To copy construct from a tensor, it is recommended to use sourceTensor.clone().detach() or sourceTensor.clone().detach().requires_grad_(True), rather than torch.tensor(sourceTensor).\n",
      "  pred_labels = torch.tensor(pred_labels, device=device)\n"
     ]
    },
    {
     "name": "stdout",
     "output_type": "stream",
     "text": [
      "Accuracy on Biased Dataset (Original): 0.7486\n"
     ]
    },
    {
     "data": {
      "application/vnd.jupyter.widget-view+json": {
       "model_id": "b1026642db1e4e13926e9e5e0c877762",
       "version_major": 2,
       "version_minor": 0
      },
      "text/plain": [
       "Batches:   0%|          | 0/24 [00:00<?, ?it/s]"
      ]
     },
     "metadata": {},
     "output_type": "display_data"
    },
    {
     "name": "stdout",
     "output_type": "stream",
     "text": [
      "Accuracy on Biased Dataset (Online): 0.7702\n"
     ]
    }
   ],
   "source": [
    "class BiasedDataset(Dataset):\n",
    "    def __init__(self, data):\n",
    "        self.data = data\n",
    "\n",
    "    def __len__(self):\n",
    "        return len(self.data)\n",
    "\n",
    "    def __getitem__(self, idx):\n",
    "        return self.data[idx]\n",
    "    \n",
    "    \n",
    "biased_data = create_biased_dataset(data_class, [0.9] + [0.1/9] * 9)\n",
    "\n",
    "biased_dataset = BiasedDataset(biased_data)\n",
    "biased_loader = DataLoader(biased_dataset, batch_size=256, shuffle=True)\n",
    "\n",
    "vae_bias = BiasedVAEClassifier(vae_sgvb, 10, 'cpu')\n",
    "\n",
    "biased_acc = biased_eval(biased_loader, vae_bias, avg_latents, method='original')\n",
    "print(f\"Accuracy on Biased Dataset (Original): {biased_acc:.4f}\")\n",
    "\n",
    "biased_acc = biased_eval(biased_loader, vae_bias, avg_latents, method='online')\n",
    "print(f\"Accuracy on Biased Dataset (Online): {biased_acc:.4f}\")"
   ]
  },
  {
   "cell_type": "code",
   "execution_count": null,
   "metadata": {},
   "outputs": [],
   "source": []
  }
 ],
 "metadata": {
  "kernelspec": {
   "display_name": "base",
   "language": "python",
   "name": "python3"
  },
  "language_info": {
   "codemirror_mode": {
    "name": "ipython",
    "version": 3
   },
   "file_extension": ".py",
   "mimetype": "text/x-python",
   "name": "python",
   "nbconvert_exporter": "python",
   "pygments_lexer": "ipython3",
   "version": "3.11.4"
  }
 },
 "nbformat": 4,
 "nbformat_minor": 2
}
