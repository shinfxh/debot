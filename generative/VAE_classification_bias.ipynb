{
 "cells": [
  {
   "cell_type": "code",
   "execution_count": 1,
   "metadata": {},
   "outputs": [],
   "source": [
    "import torch\n",
    "import random\n",
    "from torchvision import datasets\n",
    "from torchvision import transforms\n",
    "from torch.utils.data import Dataset, DataLoader\n",
    "import matplotlib.pyplot as plt\n",
    "from tqdm.notebook import tqdm\n",
    "import numpy as np\n",
    "from mpl_toolkits.mplot3d import Axes3D\n",
    "import torch.nn.functional as F\n",
    "\n",
    "device = torch.device('cuda' if torch.cuda.is_available() else 'cpu')"
   ]
  },
  {
   "cell_type": "code",
   "execution_count": 2,
   "metadata": {},
   "outputs": [
    {
     "name": "stdout",
     "output_type": "stream",
     "text": [
      "Downloading http://yann.lecun.com/exdb/mnist/train-images-idx3-ubyte.gz\n",
      "Failed to download (trying next):\n",
      "HTTP Error 403: Forbidden\n",
      "\n",
      "Downloading https://ossci-datasets.s3.amazonaws.com/mnist/train-images-idx3-ubyte.gz\n",
      "Downloading https://ossci-datasets.s3.amazonaws.com/mnist/train-images-idx3-ubyte.gz to ./data\\MNIST\\raw\\train-images-idx3-ubyte.gz\n"
     ]
    },
    {
     "name": "stderr",
     "output_type": "stream",
     "text": [
      "100%|██████████| 9912422/9912422 [00:02<00:00, 4832442.50it/s]\n"
     ]
    },
    {
     "name": "stdout",
     "output_type": "stream",
     "text": [
      "Extracting ./data\\MNIST\\raw\\train-images-idx3-ubyte.gz to ./data\\MNIST\\raw\n",
      "\n",
      "Downloading http://yann.lecun.com/exdb/mnist/train-labels-idx1-ubyte.gz\n",
      "Failed to download (trying next):\n",
      "HTTP Error 403: Forbidden\n",
      "\n",
      "Downloading https://ossci-datasets.s3.amazonaws.com/mnist/train-labels-idx1-ubyte.gz\n",
      "Downloading https://ossci-datasets.s3.amazonaws.com/mnist/train-labels-idx1-ubyte.gz to ./data\\MNIST\\raw\\train-labels-idx1-ubyte.gz\n"
     ]
    },
    {
     "name": "stderr",
     "output_type": "stream",
     "text": [
      "100%|██████████| 28881/28881 [00:00<00:00, 2220269.69it/s]\n"
     ]
    },
    {
     "name": "stdout",
     "output_type": "stream",
     "text": [
      "Extracting ./data\\MNIST\\raw\\train-labels-idx1-ubyte.gz to ./data\\MNIST\\raw\n",
      "\n",
      "Downloading http://yann.lecun.com/exdb/mnist/t10k-images-idx3-ubyte.gz\n",
      "Failed to download (trying next):\n",
      "HTTP Error 403: Forbidden\n",
      "\n",
      "Downloading https://ossci-datasets.s3.amazonaws.com/mnist/t10k-images-idx3-ubyte.gz\n",
      "Downloading https://ossci-datasets.s3.amazonaws.com/mnist/t10k-images-idx3-ubyte.gz to ./data\\MNIST\\raw\\t10k-images-idx3-ubyte.gz\n"
     ]
    },
    {
     "name": "stderr",
     "output_type": "stream",
     "text": [
      "100%|██████████| 1648877/1648877 [00:00<00:00, 9726431.24it/s]\n"
     ]
    },
    {
     "name": "stdout",
     "output_type": "stream",
     "text": [
      "Extracting ./data\\MNIST\\raw\\t10k-images-idx3-ubyte.gz to ./data\\MNIST\\raw\n",
      "\n",
      "Downloading http://yann.lecun.com/exdb/mnist/t10k-labels-idx1-ubyte.gz\n",
      "Failed to download (trying next):\n",
      "HTTP Error 403: Forbidden\n",
      "\n",
      "Downloading https://ossci-datasets.s3.amazonaws.com/mnist/t10k-labels-idx1-ubyte.gz\n",
      "Downloading https://ossci-datasets.s3.amazonaws.com/mnist/t10k-labels-idx1-ubyte.gz to ./data\\MNIST\\raw\\t10k-labels-idx1-ubyte.gz\n"
     ]
    },
    {
     "name": "stderr",
     "output_type": "stream",
     "text": [
      "100%|██████████| 4542/4542 [00:00<00:00, 1522215.64it/s]"
     ]
    },
    {
     "name": "stdout",
     "output_type": "stream",
     "text": [
      "Extracting ./data\\MNIST\\raw\\t10k-labels-idx1-ubyte.gz to ./data\\MNIST\\raw\n",
      "\n"
     ]
    },
    {
     "name": "stderr",
     "output_type": "stream",
     "text": [
      "\n"
     ]
    }
   ],
   "source": [
    "tensor_transform = transforms.ToTensor()\n",
    "\n",
    "batch_size = 256\n",
    "MNIST_dataset = datasets.MNIST(root = \"./data\",\n",
    "\t\t\t\t\t\t\t\t\ttrain = True,\n",
    "\t\t\t\t\t\t\t\t\tdownload = True,\n",
    "\t\t\t\t\t\t\t\t\ttransform = tensor_transform)\n",
    "\n",
    "MNIST_loader = torch.utils.data.DataLoader(dataset = MNIST_dataset,\n",
    "\t\t\t\t\t\t\t   batch_size = batch_size,\n",
    "\t\t\t\t\t\t\t\t shuffle = True)\n"
   ]
  },
  {
   "cell_type": "code",
   "execution_count": 3,
   "metadata": {},
   "outputs": [],
   "source": [
    "from math import e\n",
    "mse = torch.nn.MSELoss()\n",
    "\n",
    "def loss_func(model, x, reg_func=None, coeff=1e-3):\n",
    "    output = model(x)\n",
    "    err = mse(output['imgs'], x)\n",
    "    logpx_z = -1.0 * torch.sum(err)\n",
    "\n",
    "    if reg_func is not None:\n",
    "      reg = reg_func(output)\n",
    "    else:\n",
    "      reg = 0.0\n",
    "\n",
    "    return -1.0 * torch.mean(logpx_z + coeff * reg)\n",
    "\n",
    "def train(dataloader, model, loss_func, optimizer, epochs):\n",
    "    losses = []\n",
    "\n",
    "    for epoch in tqdm(range(epochs), desc='Epochs'):\n",
    "        running_loss = 0.0\n",
    "        batch_progress = tqdm(dataloader, desc='Batches', leave=False)\n",
    "\n",
    "        for iter, (images, labels) in enumerate(batch_progress):\n",
    "            batch_size = images.shape[0]\n",
    "            images = images.reshape(batch_size, -1).to(device)\n",
    "            loss = loss_func(model, images)\n",
    "\n",
    "            optimizer.zero_grad()\n",
    "            loss.backward()\n",
    "            optimizer.step()\n",
    "\n",
    "            running_loss += loss.item()\n",
    "            avg_loss = running_loss / len(MNIST_dataset) * batch_size\n",
    "            losses.append(loss.item())\n",
    "\n",
    "        tqdm.write(f'----\\nEpoch [{epoch+1}/{epochs}], Average Loss: {avg_loss:.4f}\\n')\n",
    "\n",
    "    return losses\n"
   ]
  },
  {
   "cell_type": "code",
   "execution_count": 4,
   "metadata": {},
   "outputs": [],
   "source": [
    "def plot_latent_images(model, n, digit_size=28):\n",
    "    grid_x = np.linspace(-2, 2, n)\n",
    "    grid_y = np.linspace(-2, 2, n)\n",
    "\n",
    "    image_width = digit_size * n\n",
    "    image_height = digit_size * n\n",
    "    image = np.zeros((image_height, image_width))\n",
    "\n",
    "    for i, yi in enumerate(grid_x):\n",
    "        for j, xi in enumerate(grid_y):\n",
    "            z = torch.tensor([[xi, yi]], dtype=torch.float32).to(device)\n",
    "            with torch.no_grad():\n",
    "                x_decoded = model.decode(z)\n",
    "            digit = x_decoded.view(digit_size, digit_size).cpu().numpy()\n",
    "            image[i * digit_size: (i + 1) * digit_size,\n",
    "                  j * digit_size: (j + 1) * digit_size] = digit\n",
    "\n",
    "    plt.figure(figsize=(10, 10))\n",
    "    plt.imshow(image, cmap='Greys_r')\n",
    "    plt.axis('Off')\n",
    "    plt.show()\n",
    "\n",
    "\n",
    "def eval(model):\n",
    "    original_imgs = torch.cat([MNIST_dataset[i][0] for i in range(5)])\n",
    "    with torch.no_grad():\n",
    "      res = model(original_imgs.reshape(5, -1).to(device))\n",
    "      reconstructed_imgs = res['imgs']\n",
    "      reconstructed_imgs = reconstructed_imgs.cpu().reshape(*original_imgs.shape)\n",
    "\n",
    "    fig, axes = plt.subplots(5, 2, figsize=(10, 25))\n",
    "\n",
    "    for i in range(5):\n",
    "        original_image = original_imgs[i].reshape(28, 28)\n",
    "        axes[i, 0].imshow(original_image, cmap='gray')\n",
    "        axes[i, 0].set_title(f'Original Image {i+1}')\n",
    "        axes[i, 0].axis('off')\n",
    "\n",
    "        reconstructed_image = reconstructed_imgs[i].reshape(28, 28)\n",
    "        axes[i, 1].imshow(reconstructed_image, cmap='gray')\n",
    "        axes[i, 1].set_title(f'Reconstructed Image {i+1}')\n",
    "        axes[i, 1].axis('off')\n",
    "\n",
    "    plt.tight_layout()\n",
    "    plt.show()\n"
   ]
  },
  {
   "cell_type": "code",
   "execution_count": 5,
   "metadata": {},
   "outputs": [],
   "source": [
    "class VAE(torch.nn.Module):\n",
    "  def __init__(self, input_dim, hidden_dims, decode_dim=-1, use_sigmoid=True):\n",
    "      '''\n",
    "      input_dim: The dimensionality of the input data.\n",
    "      hidden_dims: A list of hidden dimensions for the layers of the encoder and decoder.\n",
    "      decode_dim: (Optional) Specifies the dimensions to decode, if different from input_dim.\n",
    "      '''\n",
    "      super().__init__()\n",
    "\n",
    "      self.z_size = hidden_dims[-1] // 2\n",
    "\n",
    "      self.encoder = torch.nn.Sequential()\n",
    "      self.decoder = torch.nn.Sequential()\n",
    "      ##################\n",
    "      ### Problem 2(b): finish the implementation for encoder and decoder\n",
    "      ##################\n",
    "      self.encoding_dims = [input_dim] + hidden_dims\n",
    "      self.decoding_dims = [self.z_size] + self.encoding_dims[::-1]\n",
    "      if decode_dim != -1:\n",
    "          self.decoding_dims[-1] = decode_dim\n",
    "      encoder_layers = []\n",
    "      decoder_layers = []\n",
    "\n",
    "      for i, dim in enumerate(self.encoding_dims[:-1]):\n",
    "        encoder_layers.append(torch.nn.Linear(self.encoding_dims[i], self.encoding_dims[i+1]))\n",
    "        encoder_layers.append(torch.nn.GELU())\n",
    "\n",
    "      for i, dim in enumerate(self.decoding_dims[:-1]):\n",
    "        decoder_layers.append(torch.nn.Linear(self.decoding_dims[i], self.decoding_dims[i+1]))\n",
    "        decoder_layers.append(torch.nn.GELU())\n",
    "      self.encoder = torch.nn.Sequential(*encoder_layers[:-1])\n",
    "      self.decoder = torch.nn.Sequential(*decoder_layers[:-1])\n",
    "\n",
    "\n",
    "  def encode(self, x):\n",
    "      mean, logvar = torch.split(self.encoder(x), split_size_or_sections=[self.z_size, self.z_size], dim=-1)\n",
    "      return mean, logvar\n",
    "\n",
    "  def reparameterize(self, mean, logvar, n_samples_per_z=1):\n",
    "      ##################\n",
    "      ### Problem 2(c): finish the implementation for reparameterization\n",
    "      ##################\n",
    "      noise = torch.randn_like(logvar)\n",
    "      return mean + torch.exp(logvar * 0.5) * noise\n",
    "\n",
    "  def decode(self, z):\n",
    "      probs = self.decoder(z)\n",
    "      return probs\n",
    "\n",
    "  def forward(self, x, n_samples_per_z=1):\n",
    "      mean, logvar = self.encode(x)\n",
    "\n",
    "      batch_size, latent_dim = mean.shape\n",
    "      if n_samples_per_z > 1:\n",
    "        mean = mean.unsqueeze(1).expand(batch_size, n_samples_per_z, latent_dim)\n",
    "        logvar = logvar.unsqueeze(1).expand(batch_size, n_samples_per_z, latent_dim)\n",
    "\n",
    "        mean = mean.contiguous().view(batch_size * n_samples_per_z, latent_dim)\n",
    "        logvar = logvar.contiguous().view(batch_size * n_samples_per_z, latent_dim)\n",
    "\n",
    "      z = self.reparameterize(mean, logvar, n_samples_per_z)\n",
    "      x_probs = self.decode(z)\n",
    "\n",
    "      x_probs = x_probs.reshape(batch_size, n_samples_per_z, -1)\n",
    "      x_probs = torch.mean(x_probs, dim=[1])\n",
    "\n",
    "      return {\n",
    "          \"imgs\": x_probs,\n",
    "          \"z\": z,\n",
    "          \"mean\": mean,\n",
    "          \"logvar\": logvar\n",
    "      }\n",
    "\n",
    "### Test\n",
    "hidden_dims = [128, 64, 36, 18, 18]\n",
    "input_dim = 256\n",
    "test_tensor = torch.randn([1, input_dim]).to(device)\n",
    "\n",
    "vae_test = VAE(input_dim, hidden_dims).to(device)\n",
    "\n",
    "with torch.no_grad():\n",
    "  test_out = vae_test(test_tensor)\n"
   ]
  },
  {
   "cell_type": "code",
   "execution_count": 6,
   "metadata": {},
   "outputs": [],
   "source": [
    "##### Loss 1: SGVB #####\n",
    "log2pi = torch.log(2.0 * torch.tensor(np.pi)).to(device)\n",
    "torch_zero = torch.tensor(0.0).to(device)\n",
    "\n",
    "def log_normal_pdf(sample, mean, logvar, raxis=1):\n",
    "    ##################\n",
    "    ### Problem 2(d): finish the implementation for the log-probability for normal distribution with mean and var\n",
    "    ##################\n",
    "    var = torch.exp(logvar)\n",
    "    logp = -0.5 * ((sample - mean)**2/var +log2pi + logvar) \n",
    "    return torch.sum(logp, axis=raxis)\n",
    "\n",
    "def loss_SGVB(output):\n",
    "    logpz = log_normal_pdf(output['z'], torch_zero, torch_zero)\n",
    "    logqz_x = log_normal_pdf(output['z'], output['mean'], output['logvar'])\n",
    "    return logpz -logqz_x\n"
   ]
  },
  {
   "cell_type": "code",
   "execution_count": 7,
   "metadata": {},
   "outputs": [],
   "source": [
    "##### Loss 2: KL w/o Estimation #####\n",
    "def loss_KL_wo_E(output):\n",
    "    var = torch.exp(output['logvar'])\n",
    "    logvar = output['logvar']\n",
    "    mean = output['mean']\n",
    "\n",
    "    return -0.5 * torch.sum(torch.pow(mean, 2)\n",
    "                            + var - 1.0 - logvar,\n",
    "                            dim=[1])\n"
   ]
  },
  {
   "cell_type": "code",
   "execution_count": 8,
   "metadata": {},
   "outputs": [
    {
     "name": "stdout",
     "output_type": "stream",
     "text": [
      "input_dim:  784\n",
      "VAE(\n",
      "  (encoder): Sequential(\n",
      "    (0): Linear(in_features=784, out_features=128, bias=True)\n",
      "    (1): GELU(approximate='none')\n",
      "    (2): Linear(in_features=128, out_features=32, bias=True)\n",
      "    (3): GELU(approximate='none')\n",
      "    (4): Linear(in_features=32, out_features=16, bias=True)\n",
      "    (5): GELU(approximate='none')\n",
      "    (6): Linear(in_features=16, out_features=4, bias=True)\n",
      "  )\n",
      "  (decoder): Sequential(\n",
      "    (0): Linear(in_features=2, out_features=4, bias=True)\n",
      "    (1): GELU(approximate='none')\n",
      "    (2): Linear(in_features=4, out_features=16, bias=True)\n",
      "    (3): GELU(approximate='none')\n",
      "    (4): Linear(in_features=16, out_features=32, bias=True)\n",
      "    (5): GELU(approximate='none')\n",
      "    (6): Linear(in_features=32, out_features=128, bias=True)\n",
      "    (7): GELU(approximate='none')\n",
      "    (8): Linear(in_features=128, out_features=784, bias=True)\n",
      "  )\n",
      ")\n"
     ]
    },
    {
     "data": {
      "application/vnd.jupyter.widget-view+json": {
       "model_id": "ce1af43c9ee04bdbabbfcfc4e18e29f4",
       "version_major": 2,
       "version_minor": 0
      },
      "text/plain": [
       "Epochs:   0%|          | 0/20 [00:00<?, ?it/s]"
      ]
     },
     "metadata": {},
     "output_type": "display_data"
    },
    {
     "data": {
      "application/vnd.jupyter.widget-view+json": {
       "model_id": "34d81e187b4a4701aca9cb9a2e167cfc",
       "version_major": 2,
       "version_minor": 0
      },
      "text/plain": [
       "Batches:   0%|          | 0/235 [00:00<?, ?it/s]"
      ]
     },
     "metadata": {},
     "output_type": "display_data"
    },
    {
     "name": "stdout",
     "output_type": "stream",
     "text": [
      "----\n",
      "Epoch [1/20], Average Loss: 0.0225\n",
      "\n"
     ]
    },
    {
     "data": {
      "application/vnd.jupyter.widget-view+json": {
       "model_id": "3c3a2bdae35247a18d609a9d15f3344a",
       "version_major": 2,
       "version_minor": 0
      },
      "text/plain": [
       "Batches:   0%|          | 0/235 [00:00<?, ?it/s]"
      ]
     },
     "metadata": {},
     "output_type": "display_data"
    },
    {
     "name": "stdout",
     "output_type": "stream",
     "text": [
      "----\n",
      "Epoch [2/20], Average Loss: 0.0180\n",
      "\n"
     ]
    },
    {
     "data": {
      "application/vnd.jupyter.widget-view+json": {
       "model_id": "473dfc63b7f54d2a94062e52c97dbbb6",
       "version_major": 2,
       "version_minor": 0
      },
      "text/plain": [
       "Batches:   0%|          | 0/235 [00:00<?, ?it/s]"
      ]
     },
     "metadata": {},
     "output_type": "display_data"
    },
    {
     "name": "stdout",
     "output_type": "stream",
     "text": [
      "----\n",
      "Epoch [3/20], Average Loss: 0.0169\n",
      "\n"
     ]
    },
    {
     "data": {
      "application/vnd.jupyter.widget-view+json": {
       "model_id": "37706c02e9f04eb5bb877ae319033796",
       "version_major": 2,
       "version_minor": 0
      },
      "text/plain": [
       "Batches:   0%|          | 0/235 [00:00<?, ?it/s]"
      ]
     },
     "metadata": {},
     "output_type": "display_data"
    },
    {
     "name": "stdout",
     "output_type": "stream",
     "text": [
      "----\n",
      "Epoch [4/20], Average Loss: 0.0163\n",
      "\n"
     ]
    },
    {
     "data": {
      "application/vnd.jupyter.widget-view+json": {
       "model_id": "73d63ac4c35e44dcaf618aaeb4a1ca65",
       "version_major": 2,
       "version_minor": 0
      },
      "text/plain": [
       "Batches:   0%|          | 0/235 [00:00<?, ?it/s]"
      ]
     },
     "metadata": {},
     "output_type": "display_data"
    },
    {
     "name": "stdout",
     "output_type": "stream",
     "text": [
      "----\n",
      "Epoch [5/20], Average Loss: 0.0158\n",
      "\n"
     ]
    },
    {
     "data": {
      "application/vnd.jupyter.widget-view+json": {
       "model_id": "ac7ebb5ed21a44ea9a5f0f899b251317",
       "version_major": 2,
       "version_minor": 0
      },
      "text/plain": [
       "Batches:   0%|          | 0/235 [00:00<?, ?it/s]"
      ]
     },
     "metadata": {},
     "output_type": "display_data"
    },
    {
     "name": "stdout",
     "output_type": "stream",
     "text": [
      "----\n",
      "Epoch [6/20], Average Loss: 0.0156\n",
      "\n"
     ]
    },
    {
     "data": {
      "application/vnd.jupyter.widget-view+json": {
       "model_id": "e2984f97445141e3aba52ce7d220a7c5",
       "version_major": 2,
       "version_minor": 0
      },
      "text/plain": [
       "Batches:   0%|          | 0/235 [00:00<?, ?it/s]"
      ]
     },
     "metadata": {},
     "output_type": "display_data"
    },
    {
     "name": "stdout",
     "output_type": "stream",
     "text": [
      "----\n",
      "Epoch [7/20], Average Loss: 0.0154\n",
      "\n"
     ]
    },
    {
     "data": {
      "application/vnd.jupyter.widget-view+json": {
       "model_id": "454dfaf086284398b1f1dbd5c9e33ea8",
       "version_major": 2,
       "version_minor": 0
      },
      "text/plain": [
       "Batches:   0%|          | 0/235 [00:00<?, ?it/s]"
      ]
     },
     "metadata": {},
     "output_type": "display_data"
    },
    {
     "name": "stdout",
     "output_type": "stream",
     "text": [
      "----\n",
      "Epoch [8/20], Average Loss: 0.0154\n",
      "\n"
     ]
    },
    {
     "data": {
      "application/vnd.jupyter.widget-view+json": {
       "model_id": "b83ac32404c249f7a87d5361d4df7eeb",
       "version_major": 2,
       "version_minor": 0
      },
      "text/plain": [
       "Batches:   0%|          | 0/235 [00:00<?, ?it/s]"
      ]
     },
     "metadata": {},
     "output_type": "display_data"
    },
    {
     "name": "stdout",
     "output_type": "stream",
     "text": [
      "----\n",
      "Epoch [9/20], Average Loss: 0.0152\n",
      "\n"
     ]
    },
    {
     "data": {
      "application/vnd.jupyter.widget-view+json": {
       "model_id": "1a86960a258f414e9e20f75a085a08c3",
       "version_major": 2,
       "version_minor": 0
      },
      "text/plain": [
       "Batches:   0%|          | 0/235 [00:00<?, ?it/s]"
      ]
     },
     "metadata": {},
     "output_type": "display_data"
    },
    {
     "name": "stdout",
     "output_type": "stream",
     "text": [
      "----\n",
      "Epoch [10/20], Average Loss: 0.0150\n",
      "\n"
     ]
    },
    {
     "data": {
      "application/vnd.jupyter.widget-view+json": {
       "model_id": "1990b84772364a93b10c1ee8b54626e6",
       "version_major": 2,
       "version_minor": 0
      },
      "text/plain": [
       "Batches:   0%|          | 0/235 [00:00<?, ?it/s]"
      ]
     },
     "metadata": {},
     "output_type": "display_data"
    },
    {
     "name": "stdout",
     "output_type": "stream",
     "text": [
      "----\n",
      "Epoch [11/20], Average Loss: 0.0149\n",
      "\n"
     ]
    },
    {
     "data": {
      "application/vnd.jupyter.widget-view+json": {
       "model_id": "c9e76994a9b148468f4e8b6e0e83ce1d",
       "version_major": 2,
       "version_minor": 0
      },
      "text/plain": [
       "Batches:   0%|          | 0/235 [00:00<?, ?it/s]"
      ]
     },
     "metadata": {},
     "output_type": "display_data"
    },
    {
     "name": "stdout",
     "output_type": "stream",
     "text": [
      "----\n",
      "Epoch [12/20], Average Loss: 0.0148\n",
      "\n"
     ]
    },
    {
     "data": {
      "application/vnd.jupyter.widget-view+json": {
       "model_id": "a844792243114ab099ef33317c540c16",
       "version_major": 2,
       "version_minor": 0
      },
      "text/plain": [
       "Batches:   0%|          | 0/235 [00:00<?, ?it/s]"
      ]
     },
     "metadata": {},
     "output_type": "display_data"
    },
    {
     "name": "stdout",
     "output_type": "stream",
     "text": [
      "----\n",
      "Epoch [13/20], Average Loss: 0.0147\n",
      "\n"
     ]
    },
    {
     "data": {
      "application/vnd.jupyter.widget-view+json": {
       "model_id": "981c64eeba9d43bab8a5d30989852dd3",
       "version_major": 2,
       "version_minor": 0
      },
      "text/plain": [
       "Batches:   0%|          | 0/235 [00:00<?, ?it/s]"
      ]
     },
     "metadata": {},
     "output_type": "display_data"
    },
    {
     "name": "stdout",
     "output_type": "stream",
     "text": [
      "----\n",
      "Epoch [14/20], Average Loss: 0.0147\n",
      "\n"
     ]
    },
    {
     "data": {
      "application/vnd.jupyter.widget-view+json": {
       "model_id": "b04c63bcf4e847f8a4f11ebb0c3a499c",
       "version_major": 2,
       "version_minor": 0
      },
      "text/plain": [
       "Batches:   0%|          | 0/235 [00:00<?, ?it/s]"
      ]
     },
     "metadata": {},
     "output_type": "display_data"
    },
    {
     "name": "stdout",
     "output_type": "stream",
     "text": [
      "----\n",
      "Epoch [15/20], Average Loss: 0.0147\n",
      "\n"
     ]
    },
    {
     "data": {
      "application/vnd.jupyter.widget-view+json": {
       "model_id": "3e5fca73a3e7498d96d0d04849f8255a",
       "version_major": 2,
       "version_minor": 0
      },
      "text/plain": [
       "Batches:   0%|          | 0/235 [00:00<?, ?it/s]"
      ]
     },
     "metadata": {},
     "output_type": "display_data"
    },
    {
     "name": "stdout",
     "output_type": "stream",
     "text": [
      "----\n",
      "Epoch [16/20], Average Loss: 0.0148\n",
      "\n"
     ]
    },
    {
     "data": {
      "application/vnd.jupyter.widget-view+json": {
       "model_id": "5f17e2b3c91f491ba5bf6714b69f3038",
       "version_major": 2,
       "version_minor": 0
      },
      "text/plain": [
       "Batches:   0%|          | 0/235 [00:00<?, ?it/s]"
      ]
     },
     "metadata": {},
     "output_type": "display_data"
    },
    {
     "name": "stdout",
     "output_type": "stream",
     "text": [
      "----\n",
      "Epoch [17/20], Average Loss: 0.0148\n",
      "\n"
     ]
    },
    {
     "data": {
      "application/vnd.jupyter.widget-view+json": {
       "model_id": "0eb0e0b5dd1e45e38497dd9c2382695f",
       "version_major": 2,
       "version_minor": 0
      },
      "text/plain": [
       "Batches:   0%|          | 0/235 [00:00<?, ?it/s]"
      ]
     },
     "metadata": {},
     "output_type": "display_data"
    },
    {
     "name": "stdout",
     "output_type": "stream",
     "text": [
      "----\n",
      "Epoch [18/20], Average Loss: 0.0147\n",
      "\n"
     ]
    },
    {
     "data": {
      "application/vnd.jupyter.widget-view+json": {
       "model_id": "9aa013c9a3c84431a24e597557dbe76e",
       "version_major": 2,
       "version_minor": 0
      },
      "text/plain": [
       "Batches:   0%|          | 0/235 [00:00<?, ?it/s]"
      ]
     },
     "metadata": {},
     "output_type": "display_data"
    },
    {
     "name": "stdout",
     "output_type": "stream",
     "text": [
      "----\n",
      "Epoch [19/20], Average Loss: 0.0147\n",
      "\n"
     ]
    },
    {
     "data": {
      "application/vnd.jupyter.widget-view+json": {
       "model_id": "cf254350f5bb4e7ab93bc217d05aba00",
       "version_major": 2,
       "version_minor": 0
      },
      "text/plain": [
       "Batches:   0%|          | 0/235 [00:00<?, ?it/s]"
      ]
     },
     "metadata": {},
     "output_type": "display_data"
    },
    {
     "name": "stdout",
     "output_type": "stream",
     "text": [
      "----\n",
      "Epoch [20/20], Average Loss: 0.0145\n",
      "\n"
     ]
    }
   ],
   "source": [
    "##################\n",
    "### Problem 3(c): Train VAE with ELBO loss\n",
    "epochs = 20\n",
    "\n",
    "hidden_dims = [128, 32, 16, 4]\n",
    "assert hidden_dims[-1] == 4, \"always use 4 as the latent dimension for generating a 2D image grid during evaluation\"\n",
    "\n",
    "image_shape = MNIST_dataset[0][0].shape\n",
    "input_dim = torch.prod(torch.tensor(image_shape)).item()\n",
    "print(\"input_dim: \", input_dim)\n",
    "\n",
    "vae_sgvb = VAE(input_dim, hidden_dims).to(device)\n",
    "print(vae_sgvb)\n",
    "\n",
    "coeff = 1e-4\n",
    "\n",
    "optimizer_vae_sgvb = torch.optim.Adam(vae_sgvb.parameters(),\n",
    "                                lr = 5e-3,\n",
    "                                weight_decay = 1e-8)\n",
    "\n",
    "log_vae_sgvb = train(MNIST_loader, vae_sgvb, lambda model, x: loss_func(model, x, reg_func=loss_SGVB, coeff=coeff), optimizer_vae_sgvb, epochs)\n",
    "##################\n"
   ]
  },
  {
   "cell_type": "code",
   "execution_count": 9,
   "metadata": {},
   "outputs": [
    {
     "data": {
      "image/png": "[encoded data removed]",
      "text/plain": [
       "<Figure size 1000x2500 with 10 Axes>"
      ]
     },
     "metadata": {},
     "output_type": "display_data"
    },
    {
     "data": {
      "image/png": "[encoded data removed]",
      "text/plain": [
       "<Figure size 1000x1000 with 1 Axes>"
      ]
     },
     "metadata": {},
     "output_type": "display_data"
    }
   ],
   "source": [
    "##################\n",
    "### Problem 3(c): Evaluate VAE with ELBO loss\n",
    "eval(vae_sgvb)\n",
    "plot_latent_images(vae_sgvb, n=8)\n",
    "##################\n"
   ]
  },
  {
   "cell_type": "code",
   "execution_count": 10,
   "metadata": {},
   "outputs": [],
   "source": [
    "def calculate_class_latents(vae_model, dataloader, num_classes=10, device='cuda'):\n",
    "    \"\"\"\n",
    "    Compute the average latent vector for each class using training data.\n",
    "    \n",
    "    Args:\n",
    "        vae_model (VAE): The trained VAE model.\n",
    "        dataloader (torch.utils.data.DataLoader): DataLoader containing the dataset.\n",
    "        num_classes (int): Number of classes (default: 10 for MNIST).\n",
    "        device (str): Device for computation.\n",
    "    \n",
    "    Returns:\n",
    "        torch.Tensor: Averaged latent vectors for each class of shape (num_classes, latent_dim).\n",
    "    \"\"\"\n",
    "    class_latents = {i: [] for i in range(num_classes)}  # Dictionary to store latents per class\n",
    "    \n",
    "    vae_model.eval()\n",
    "    with torch.no_grad():\n",
    "        for images, labels in tqdm(dataloader, desc='Calculating Class Latents'):\n",
    "            images = images.to(device)\n",
    "            labels = labels.to(device)\n",
    "            \n",
    "            # Flatten the images for the encoder\n",
    "            images_flat = images.view(images.size(0), -1)\n",
    "            \n",
    "            # Encode to latent space\n",
    "            mean, log_var = vae_model.encode(images_flat)\n",
    "            latent = mean  # Use the mean as the latent representation\n",
    "            \n",
    "            # Store latents by class\n",
    "            for i in range(images.size(0)):\n",
    "                class_latents[labels[i].item()].append(latent[i].cpu())\n",
    "    \n",
    "    # Compute the average latent vector for each class\n",
    "    avg_latents = torch.zeros((num_classes, vae_model.z_size))\n",
    "    for class_label, latents in class_latents.items():\n",
    "        avg_latents[class_label] = torch.stack(latents).mean(dim=0)\n",
    "    \n",
    "    return avg_latents.to(device)\n",
    "\n",
    "\n",
    "def classify_with_vae_avg(vae_model, input_image, avg_latents, num_classes=10):\n",
    "    \"\"\"\n",
    "    Classify an input image using a trained VAE and average class latent vectors.\n",
    "    \n",
    "    Args:\n",
    "        vae_model (VAE): The trained VAE model.\n",
    "        input_image (torch.Tensor): The input image tensor of shape (1, 28, 28).\n",
    "        avg_latents (torch.Tensor): Averaged latent vectors for each class.\n",
    "        num_classes (int): Number of classes (default: 10 for MNIST).\n",
    "    \n",
    "    Returns:\n",
    "        int: The predicted class label.\n",
    "    \"\"\"\n",
    "    # Ensure the input image is in the correct format\n",
    "    if input_image.ndim == 3:\n",
    "        input_image = input_image.unsqueeze(0)  # Add batch dimension\n",
    "\n",
    "    # Flatten the input image for L2 comparison\n",
    "    input_image_flat = input_image.view(input_image.size(0), -1)\n",
    "\n",
    "    closest_label = -1\n",
    "    min_distance = float('inf')\n",
    "\n",
    "    for class_label in range(num_classes):\n",
    "        # Decode the average latent vector for the class\n",
    "        generated_image = vae_model.decode(avg_latents[class_label].unsqueeze(0))\n",
    "        generated_image_flat = generated_image.view(generated_image.size(0), -1)  # Flatten generated image\n",
    "\n",
    "        # Compute L2 distance\n",
    "        l2_distance = torch.norm(input_image_flat - generated_image_flat, p=2)\n",
    "\n",
    "        # Update closest label if distance is smaller\n",
    "        if l2_distance < min_distance:\n",
    "            min_distance = l2_distance\n",
    "            closest_label = class_label\n",
    "\n",
    "    return closest_label\n",
    "\n",
    "\n",
    "def classification_eval_avg(dataloader, model, avg_latents, num_classes=10, epochs=1):\n",
    "    \"\"\"\n",
    "    Evaluate the classification performance of the VAE-based classifier using averaged latents.\n",
    "    \n",
    "    Args:\n",
    "        dataloader (torch.utils.data.DataLoader): DataLoader for the dataset.\n",
    "        model (torch.nn.Module): Trained VAE model.\n",
    "        avg_latents (torch.Tensor): Averaged latent vectors for each class.\n",
    "        num_classes (int): Number of classes.\n",
    "        epochs (int): Number of evaluation epochs.\n",
    "    \n",
    "    Returns:\n",
    "        list: Average accuracy per epoch.\n",
    "    \"\"\"\n",
    "    accuracies = []\n",
    "\n",
    "    for epoch in tqdm(range(epochs), desc='Epochs'):\n",
    "        correct_predictions = 0\n",
    "        total_predictions = 0\n",
    "        batch_progress = tqdm(dataloader, desc='Batches', leave=False)\n",
    "\n",
    "        for iter, (images, labels) in enumerate(batch_progress):\n",
    "            batch_size = images.shape[0]\n",
    "            images = images.to(device)\n",
    "            labels = labels.to(device)\n",
    "\n",
    "            # Predict labels for the batch\n",
    "            pred_labels = []\n",
    "            for image in images:\n",
    "                pred_label = classify_with_vae_avg(model, image, avg_latents, num_classes=num_classes)\n",
    "                pred_labels.append(pred_label)\n",
    "\n",
    "            # Convert to tensor\n",
    "            pred_labels = torch.tensor(pred_labels, device=device)\n",
    "\n",
    "            # Calculate accuracy for the batch\n",
    "            correct_predictions += (pred_labels == labels).sum().item()\n",
    "            total_predictions += batch_size\n",
    "\n",
    "        # Calculate average accuracy for the epoch\n",
    "        epoch_accuracy = correct_predictions / total_predictions\n",
    "        accuracies.append(epoch_accuracy)\n",
    "\n",
    "        tqdm.write(f'----\\nEpoch [{epoch+1}/{epochs}], Average Acc: {epoch_accuracy:.4f}\\n')\n",
    "\n",
    "    return accuracies\n"
   ]
  },
  {
   "cell_type": "code",
   "execution_count": 11,
   "metadata": {},
   "outputs": [
    {
     "data": {
      "application/vnd.jupyter.widget-view+json": {
       "model_id": "fbacdf1d60bb4dccb95ca8522f5381ac",
       "version_major": 2,
       "version_minor": 0
      },
      "text/plain": [
       "Calculating Class Latents:   0%|          | 0/235 [00:00<?, ?it/s]"
      ]
     },
     "metadata": {},
     "output_type": "display_data"
    }
   ],
   "source": [
    "avg_latents = calculate_class_latents(vae_model=vae_sgvb, \n",
    "                                      dataloader=MNIST_loader, \n",
    "                                      num_classes=10, \n",
    "                                      device=device)"
   ]
  },
  {
   "cell_type": "code",
   "execution_count": 12,
   "metadata": {},
   "outputs": [
    {
     "data": {
      "application/vnd.jupyter.widget-view+json": {
       "model_id": "1895efc7183a4b09aed8d5ed9f88b9c0",
       "version_major": 2,
       "version_minor": 0
      },
      "text/plain": [
       "Epochs:   0%|          | 0/1 [00:00<?, ?it/s]"
      ]
     },
     "metadata": {},
     "output_type": "display_data"
    },
    {
     "data": {
      "application/vnd.jupyter.widget-view+json": {
       "model_id": "de9f92da6d8846098543fb6236748e5a",
       "version_major": 2,
       "version_minor": 0
      },
      "text/plain": [
       "Batches:   0%|          | 0/235 [00:00<?, ?it/s]"
      ]
     },
     "metadata": {},
     "output_type": "display_data"
    },
    {
     "name": "stdout",
     "output_type": "stream",
     "text": [
      "----\n",
      "Epoch [1/1], Average Acc: 0.5548\n",
      "\n",
      "Final Accuracy: 0.5548\n"
     ]
    }
   ],
   "source": [
    "# Assuming MNIST_loader is your DataLoader and vae_model is your trained VAE instance\n",
    "vae_sgvb.eval()  # Set the model to evaluation mode\n",
    "\n",
    "# Evaluate classification performance\n",
    "accuracies = classification_eval_avg(MNIST_loader, vae_sgvb, avg_latents, num_classes=10, epochs=1)\n",
    "print(f'Final Accuracy: {accuracies[-1]:.4f}')\n"
   ]
  },
  {
   "cell_type": "code",
   "execution_count": 20,
   "metadata": {},
   "outputs": [],
   "source": [
    "def split_data(train_dataset):\n",
    "    \"\"\"\n",
    "    Splits the dataset by class labels into a dictionary of lists.\n",
    "    \"\"\"\n",
    "    data = {x: [] for x in range(10)}  # Initialize dictionary for 10 classes\n",
    "    for img, label in train_dataset:\n",
    "        data[label].append((img, label))  # Append each sample to the corresponding label key\n",
    "    return data\n",
    "\n",
    "def create_biased_dataset(data, probs):\n",
    "    \"\"\"\n",
    "    Creates a biased dataset according to the given probabilities.\n",
    "\n",
    "    Parameters:\n",
    "        data: Dictionary with label keys and corresponding (image, label) lists\n",
    "        probs: List of probabilities for each class\n",
    "    \n",
    "    Returns:\n",
    "        A biased list of (image, label) samples.\n",
    "    \"\"\"\n",
    "    max_p = max(probs)  # Find the maximum probability\n",
    "    max_x = np.argmax(probs)  # Find the class with the maximum probability\n",
    "    max_n = int(0.9 * len(data[max_x]))  # Determine the maximum number of samples\n",
    "    res = []\n",
    "\n",
    "    for x, samples in data.items():\n",
    "        n = int(max_n * probs[x] / max_p)  # Scale the number of samples for each class\n",
    "        res += random.sample(samples, n)  # Randomly sample 'n' items from the current class\n",
    "\n",
    "    random.shuffle(res)  # Shuffle the entire biased dataset\n",
    "    return res\n",
    "\n",
    "data_class = split_data(MNIST_dataset)"
   ]
  },
  {
   "cell_type": "code",
   "execution_count": 21,
   "metadata": {},
   "outputs": [],
   "source": [
    "class BiasedVAEClassifier:\n",
    "    def __init__(self, vae_model, n_classes=10, device='cuda'):\n",
    "        \"\"\"\n",
    "        Biased VAE Classifier that adjusts class thresholds based on biases.\n",
    "        \n",
    "        Args:\n",
    "            vae_model: Trained VAE model.\n",
    "            n_classes (int): Number of classes (default: 10 for MNIST).\n",
    "            device (str): Device for computation (default: 'cuda').\n",
    "        \"\"\"\n",
    "        self.vae_model = vae_model\n",
    "        self.n_classes = n_classes\n",
    "        self.counts = [0 for _ in range(n_classes)]\n",
    "        self.pys = [1 / n_classes for _ in range(n_classes)]\n",
    "        self.device = device\n",
    "\n",
    "    def predict_proba(self, X, avg_latents):\n",
    "        \"\"\"\n",
    "        Predict class probabilities for the input using the VAE model.\n",
    "\n",
    "        Args:\n",
    "            X (torch.Tensor): Input images.\n",
    "            avg_latents (torch.Tensor): Averaged latent representations for each class.\n",
    "        \n",
    "        Returns:\n",
    "            torch.Tensor: Predicted probabilities for each class.\n",
    "        \"\"\"\n",
    "        probabilities = []\n",
    "        for xi in X:\n",
    "            errs = []\n",
    "            for class_idx in range(self.n_classes):\n",
    "                latent = avg_latents[class_idx].to(self.device)  # Use avg_latents passed explicitly\n",
    "                generated_image = self.vae_model.decode(latent.unsqueeze(0))\n",
    "                err = torch.norm(xi.view(-1) - generated_image.view(-1), p=2)\n",
    "                errs.append(err.item())\n",
    "\n",
    "            # Compute probabilities using exp(-Err^2)\n",
    "            errs = torch.tensor(errs, device=self.device)\n",
    "            exp_neg_squared = torch.exp(-errs**2)\n",
    "            probs = exp_neg_squared / exp_neg_squared.sum()  # Normalize probabilities\n",
    "            probabilities.append(probs)\n",
    "\n",
    "        return torch.stack(probabilities)\n",
    "\n",
    "    def predict(self, X, avg_latents):\n",
    "        \"\"\"\n",
    "        Predict class labels for the input.\n",
    "\n",
    "        Args:\n",
    "            X (torch.Tensor): Input images.\n",
    "            avg_latents (torch.Tensor): Averaged latent representations for each class.\n",
    "        \n",
    "        Returns:\n",
    "            torch.Tensor: Predicted class labels.\n",
    "        \"\"\"\n",
    "        proba = self.predict_proba(X, avg_latents)\n",
    "        return torch.argmax(proba * torch.tensor(self.pys, device=self.device), dim=1)\n",
    "\n",
    "    def predict_biased_online(self, X, y, avg_latents):\n",
    "        \"\"\"\n",
    "        Online prediction with dynamic threshold adjustments.\n",
    "\n",
    "        Args:\n",
    "            X (torch.Tensor): Input images.\n",
    "            y (torch.Tensor): True labels.\n",
    "            avg_latents (torch.Tensor): Averaged latent representations for each class.\n",
    "            alpha (float): Learning rate for threshold adjustment.\n",
    "        \n",
    "        Returns:\n",
    "            tuple: Predicted labels, threshold history, and probability history.\n",
    "        \"\"\"\n",
    "        res = []\n",
    "\n",
    "        for xi, yi in zip(X, y):\n",
    "            proba = self.predict_proba(xi.unsqueeze(0), avg_latents)\n",
    "            predicted_class = torch.argmax(proba * torch.tensor(self.pys, device=self.device)).item()\n",
    "            res.append(predicted_class)\n",
    "\n",
    "            if predicted_class == yi.item():\n",
    "                self.counts[yi.item()] += 1\n",
    "            else:\n",
    "                for j in range(self.n_classes):\n",
    "                    if j == yi.item():\n",
    "                        continue\n",
    "                    self.counts[j] += 1/9\n",
    "            \n",
    "            self.pys = [x / sum(self.counts) for x in self.counts]\n",
    "\n",
    "        return torch.tensor(res, device=self.device)"
   ]
  },
  {
   "cell_type": "code",
   "execution_count": 22,
   "metadata": {},
   "outputs": [],
   "source": [
    "def biased_eval(dataloader, model, avg_latents, method='online'):\n",
    "    \"\"\"\n",
    "    Evaluate the classification performance of the VAE-based classifier using averaged latents.\n",
    "    \n",
    "    Args:\n",
    "        dataloader (torch.utils.data.DataLoader): DataLoader for the dataset.\n",
    "        model (torch.nn.Module): Trained VAE model.\n",
    "        avg_latents (torch.Tensor): Averaged latent vectors for each class.\n",
    "    \n",
    "    Returns:\n",
    "        acc: classification accuracy\n",
    "    \"\"\"\n",
    "    accuracies = []\n",
    "\n",
    "    correct_predictions = 0\n",
    "    total_predictions = 0\n",
    "    batch_progress = tqdm(dataloader, desc='Batches', leave=False)\n",
    "\n",
    "    for iter, (images, labels) in enumerate(batch_progress):\n",
    "        batch_size = images.shape[0]\n",
    "        images = images.to(device)\n",
    "        labels = labels.to(device)\n",
    "\n",
    "        # Predict labels for the batch\n",
    "        pred_labels = []\n",
    "        if method == 'online':\n",
    "            pred_labels = model.predict_biased_online(images, labels, avg_latents)\n",
    "        else:\n",
    "            pred_labels = model.predict(images, avg_latents)\n",
    "        # for image in images:\n",
    "        #     pred_label = model.predict_biased_online(image, )\n",
    "        #     pred_labels.append(pred_label)\n",
    "\n",
    "        # Convert to tensor\n",
    "        pred_labels = torch.tensor(pred_labels, device=device)\n",
    "\n",
    "        # Calculate accuracy for the batch\n",
    "        correct_predictions += (pred_labels == labels).sum().item()\n",
    "        total_predictions += batch_size\n",
    "\n",
    "        # Calculate average accuracy for the epoch\n",
    "        epoch_accuracy = correct_predictions / total_predictions\n",
    "        accuracies.append(epoch_accuracy)\n",
    "\n",
    "    return correct_predictions / total_predictions"
   ]
  },
  {
   "cell_type": "code",
   "execution_count": 26,
   "metadata": {},
   "outputs": [
    {
     "data": {
      "application/vnd.jupyter.widget-view+json": {
       "model_id": "30f7ba17bba9464c8dc4cc2223fc6eb6",
       "version_major": 2,
       "version_minor": 0
      },
      "text/plain": [
       "Batches:   0%|          | 0/42 [00:00<?, ?it/s]"
      ]
     },
     "metadata": {},
     "output_type": "display_data"
    },
    {
     "name": "stderr",
     "output_type": "stream",
     "text": [
      "C:\\Users\\ronsh\\AppData\\Local\\Temp\\ipykernel_30108\\1715673431.py:35: UserWarning: To copy construct from a tensor, it is recommended to use sourceTensor.clone().detach() or sourceTensor.clone().detach().requires_grad_(True), rather than torch.tensor(sourceTensor).\n",
      "  pred_labels = torch.tensor(pred_labels, device=device)\n"
     ]
    },
    {
     "name": "stdout",
     "output_type": "stream",
     "text": [
      "Accuracy on Biased Dataset (Original): 0.6177\n"
     ]
    },
    {
     "data": {
      "application/vnd.jupyter.widget-view+json": {
       "model_id": "4bac0e40df7c4490a4270c1808b85499",
       "version_major": 2,
       "version_minor": 0
      },
      "text/plain": [
       "Batches:   0%|          | 0/42 [00:00<?, ?it/s]"
      ]
     },
     "metadata": {},
     "output_type": "display_data"
    },
    {
     "name": "stdout",
     "output_type": "stream",
     "text": [
      "Accuracy on Biased Dataset (Online): 0.6263\n"
     ]
    }
   ],
   "source": [
    "class BiasedDataset(Dataset):\n",
    "    def __init__(self, data):\n",
    "        self.data = data\n",
    "\n",
    "    def __len__(self):\n",
    "        return len(self.data)\n",
    "\n",
    "    def __getitem__(self, idx):\n",
    "        return self.data[idx]\n",
    "    \n",
    "    \n",
    "biased_data = create_biased_dataset(data_class, [0.5] + [0.5/9] * 9)\n",
    "\n",
    "biased_dataset = BiasedDataset(biased_data)\n",
    "biased_loader = DataLoader(biased_dataset, batch_size=256, shuffle=True)\n",
    "\n",
    "vae_bias = BiasedVAEClassifier(vae_sgvb, 10, 'cpu')\n",
    "\n",
    "biased_acc = biased_eval(biased_loader, vae_bias, avg_latents, method='original')\n",
    "print(f\"Accuracy on Biased Dataset (Original): {biased_acc:.4f}\")\n",
    "\n",
    "biased_acc = biased_eval(biased_loader, vae_bias, avg_latents, method='online')\n",
    "print(f\"Accuracy on Biased Dataset (Online): {biased_acc:.4f}\")"
   ]
  },
  {
   "cell_type": "markdown",
   "metadata": {},
   "source": []
  },
  {
   "cell_type": "markdown",
   "metadata": {},
   "source": [
    "# First experiment"
   ]
  },
  {
   "cell_type": "code",
   "execution_count": 33,
   "metadata": {},
   "outputs": [],
   "source": [
    "from sklearn.metrics import accuracy_score, precision_score, recall_score"
   ]
  },
  {
   "cell_type": "code",
   "execution_count": 27,
   "metadata": {},
   "outputs": [],
   "source": [
    "def prepare_biased_loaders(dataset, bias_ratios, batch_size=256, shuffle=True, num_workers=0):\n",
    "    \"\"\"\n",
    "    Prepares biased data loaders for different class bias ratios.\n",
    "    \n",
    "    Args:\n",
    "        dataset (torch.utils.data.Dataset): The original dataset.\n",
    "        bias_ratios (dict): A dictionary where keys are bias ratios (e.g., 0.1, 0.2) \n",
    "                            and values are lists specifying class sampling ratios.\n",
    "        batch_size (int): Batch size for the DataLoader.\n",
    "        shuffle (bool): Whether to shuffle the DataLoader.\n",
    "        num_workers (int): Number of workers for the DataLoader.\n",
    "    \n",
    "    Returns:\n",
    "        dict: A dictionary where keys are bias ratios and values are DataLoader instances.\n",
    "    \"\"\"\n",
    "    # Split dataset by class\n",
    "    data_by_class = split_data(dataset)\n",
    "    \n",
    "    # Create biased datasets for each ratio\n",
    "    biased_loaders = {}\n",
    "    for ratio, class_ratios in bias_ratios.items():\n",
    "        biased_data = create_biased_dataset(data_by_class, class_ratios)\n",
    "        biased_dataset = BiasedDataset(biased_data)\n",
    "        biased_loaders[ratio] = DataLoader(biased_dataset, batch_size=batch_size, shuffle=shuffle, num_workers=num_workers)\n",
    "    \n",
    "    return biased_loaders"
   ]
  },
  {
   "cell_type": "code",
   "execution_count": 29,
   "metadata": {},
   "outputs": [],
   "source": [
    "# Define the desired class sampling ratios for different bias settings\n",
    "bias_ratios = {\n",
    "    0.1: [0.1] + [0.9 / 9] * 9,  # Class 0 is overrepresented\n",
    "    0.2: [0.2] + [0.8 / 9] * 9,\n",
    "    0.3: [0.3] + [0.7 / 9] * 9,\n",
    "    0.4: [0.4] + [0.6 / 9] * 9,\n",
    "    0.5: [0.5] + [0.5 / 9] * 9,\n",
    "    0.6: [0.6] + [0.4 / 9] * 9,\n",
    "    0.7: [0.7] + [0.3 / 9] * 9,\n",
    "    0.8: [0.8] + [0.2 / 9] * 9,\n",
    "    0.9: [0.9] + [0.1 / 9] * 9,\n",
    "}\n",
    "\n",
    "biased_loaders = prepare_biased_loaders(\n",
    "    dataset=MNIST_dataset,  # Replace with your dataset\n",
    "    bias_ratios=bias_ratios,\n",
    "    batch_size=256,\n",
    "    shuffle=True,\n",
    "    num_workers=4\n",
    ")"
   ]
  },
  {
   "cell_type": "code",
   "execution_count": 32,
   "metadata": {},
   "outputs": [],
   "source": [
    "biased_loader_01 = biased_loaders[0.1]\n",
    "biased_loader_02 = biased_loaders[0.2]\n",
    "biased_loader_03 = biased_loaders[0.3]\n",
    "biased_loader_04 = biased_loaders[0.4]\n",
    "biased_loader_05 = biased_loaders[0.5]\n",
    "biased_loader_06 = biased_loaders[0.6]\n",
    "biased_loader_07 = biased_loaders[0.7]\n",
    "biased_loader_08 = biased_loaders[0.8]\n",
    "biased_loader_09 = biased_loaders[0.9]"
   ]
  },
  {
   "cell_type": "code",
   "execution_count": 37,
   "metadata": {},
   "outputs": [],
   "source": [
    "def evaluate_biased_vae_classifier(test_datasets, model, avg_latents, og_model):\n",
    "    \"\"\"\n",
    "    Evaluate the BiasedVAEClassifier with different thresholds and compare \n",
    "    its online performance to the non-online version.\n",
    "\n",
    "    Args:\n",
    "        test_datasets (dict): Dictionary of test datasets with their bias ratios as keys.\n",
    "        model (BiasedVAEClassifier): The BiasedVAEClassifier instance.\n",
    "        avg_latents (torch.Tensor): Averaged latent vectors for each class.\n",
    "        og_model (BiasedVAEClassifier): Non-online version of the model for comparison.\n",
    "\n",
    "    Returns:\n",
    "        dict: Threshold histories, probability histories, and performance metrics.\n",
    "    \"\"\"\n",
    "    # Prepare the test data\n",
    "    accuracies = []\n",
    "    precisions = []\n",
    "    recalls = []\n",
    "    ratios = []\n",
    "    og_accuracies = []\n",
    "    og_precisions = []\n",
    "    og_recalls = []\n",
    "\n",
    "    threshold_histories = {}\n",
    "    prob_histories = {}\n",
    "\n",
    "    for ratio, test_loader in test_datasets.items():\n",
    "        print(f\"Test Bias Ratio: {ratio}\")\n",
    "\n",
    "        # Evaluate online method\n",
    "        X_test, y_test = [], []\n",
    "        for x, y in test_loader:\n",
    "            X_test.append(x)\n",
    "            y_test.append(y)\n",
    "        X_test = torch.stack(X_test).to(model.device)\n",
    "        y_test = torch.tensor(y_test).to(model.device)\n",
    "\n",
    "        predictions, threshold_history, prob_history = model.predict_biased_online(X_test, y_test, avg_latents)\n",
    "        threshold_histories[ratio] = threshold_history\n",
    "        prob_histories[ratio] = prob_history\n",
    "\n",
    "        # Evaluate the non-online (original) method\n",
    "        og_predictions = og_model.predict(X_test, avg_latents)\n",
    "\n",
    "        # Calculate metrics\n",
    "        accuracies.append((predictions == y_test).sum().item() / len(y_test))\n",
    "        precisions.append(precision_score(y_test.cpu(), predictions.cpu(), average=\"macro\"))\n",
    "        recalls.append(recall_score(y_test.cpu(), predictions.cpu(), average=\"macro\"))\n",
    "\n",
    "        og_accuracies.append((og_predictions == y_test).sum().item() / len(y_test))\n",
    "        og_precisions.append(precision_score(y_test.cpu(), og_predictions.cpu(), average=\"macro\"))\n",
    "        og_recalls.append(recall_score(y_test.cpu(), og_predictions.cpu(), average=\"macro\"))\n",
    "\n",
    "        ratios.append(ratio)\n",
    "\n",
    "    # Plot the results\n",
    "    plt.figure(figsize=(10, 6))\n",
    "    plt.plot(ratios, og_accuracies, label=\"Original Accuracy\", color=\"blue\")\n",
    "    plt.plot(ratios, accuracies, label=\"Online Accuracy\", color=\"red\")\n",
    "    plt.xlabel(\"Bias Ratio\")\n",
    "    plt.ylabel(\"Accuracy\")\n",
    "    plt.title(\"Accuracy Comparison for Different Thresholds\")\n",
    "    plt.legend()\n",
    "    plt.grid(True)\n",
    "    plt.show()\n",
    "\n",
    "    plt.figure(figsize=(10, 6))\n",
    "    plt.plot(ratios, og_precisions, label=\"Original Precision\", color=\"blue\")\n",
    "    plt.plot(ratios, precisions, label=\"Online Precision\", color=\"red\")\n",
    "    plt.xlabel(\"Bias Ratio\")\n",
    "    plt.ylabel(\"Precision\")\n",
    "    plt.title(\"Precision Comparison for Different Thresholds\")\n",
    "    plt.legend()\n",
    "    plt.grid(True)\n",
    "    plt.show()\n",
    "\n",
    "    plt.figure(figsize=(10, 6))\n",
    "    plt.plot(ratios, og_recalls, label=\"Original Recall\", color=\"blue\")\n",
    "    plt.plot(ratios, recalls, label=\"Online Recall\", color=\"red\")\n",
    "    plt.xlabel(\"Bias Ratio\")\n",
    "    plt.ylabel(\"Recall\")\n",
    "    plt.title(\"Recall Comparison for Different Thresholds\")\n",
    "    plt.legend()\n",
    "    plt.grid(True)\n",
    "    plt.show()\n",
    "\n",
    "    return {\n",
    "        \"threshold_histories\": threshold_histories,\n",
    "        \"prob_histories\": prob_histories,\n",
    "        \"accuracies\": accuracies,\n",
    "        \"precisions\": precisions,\n",
    "        \"recalls\": recalls,\n",
    "        \"og_accuracies\": og_accuracies,\n",
    "        \"og_precisions\": og_precisions,\n",
    "        \"og_recalls\": og_recalls,\n",
    "    }\n"
   ]
  },
  {
   "cell_type": "code",
   "execution_count": null,
   "metadata": {},
   "outputs": [
    {
     "name": "stdout",
     "output_type": "stream",
     "text": [
      "Test Bias Ratio: 0.1\n"
     ]
    }
   ],
   "source": [
    "# Test datasets with different bias ratios\n",
    "test_datasets = {\n",
    "    0.1: biased_loader_01,\n",
    "    0.2: biased_loader_02,\n",
    "    0.3: biased_loader_03,\n",
    "    0.4: biased_loader_04,\n",
    "    0.5: biased_loader_05,\n",
    "    0.6: biased_loader_06,\n",
    "    0.7: biased_loader_07,\n",
    "    0.8: biased_loader_08,\n",
    "    0.9: biased_loader_09,\n",
    "}\n",
    "\n",
    "# Evaluate the models\n",
    "results = evaluate_biased_vae_classifier(test_datasets, vae_bias, avg_latents, vae_bias)\n",
    "\n",
    "# Access results\n",
    "print(\"Accuracies (Online):\", results[\"accuracies\"])\n",
    "print(\"Accuracies (Original):\", results[\"og_accuracies\"])\n"
   ]
  }
 ],
 "metadata": {
  "kernelspec": {
   "display_name": "Python 3",
   "language": "python",
   "name": "python3"
  },
  "language_info": {
   "codemirror_mode": {
    "name": "ipython",
    "version": 3
   },
   "file_extension": ".py",
   "mimetype": "text/x-python",
   "name": "python",
   "nbconvert_exporter": "python",
   "pygments_lexer": "ipython3",
   "version": "3.9.7"
  }
 },
 "nbformat": 4,
 "nbformat_minor": 2
}
