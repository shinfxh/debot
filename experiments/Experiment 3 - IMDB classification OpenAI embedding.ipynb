{
 "cells": [
  {
   "cell_type": "code",
   "execution_count": 2,
   "id": "7d327455",
   "metadata": {},
   "outputs": [],
   "source": [
    "from sklearn.ensemble import RandomForestClassifier\n",
    "import numpy as np\n",
    "from scipy import stats\n",
    "\n",
    "import torch\n",
    "import torch.nn as nn\n",
    "import torch.nn.functional as F\n",
    "\n",
    "import torchvision\n",
    "import torchvision.transforms as transforms\n",
    "\n",
    "import matplotlib.pyplot as plt\n",
    "import numpy as np\n",
    "\n",
    "from sklearn.metrics import accuracy_score, precision_score, recall_score\n",
    "import random\n",
    "\n",
    "from sklearn.utils import resample\n",
    "\n",
    "import matplotlib.pyplot as plt\n",
    "from tensorflow.keras.datasets import cifar10\n",
    "import pandas as pd\n",
    "from sklearn.model_selection import train_test_split\n",
    "from tensorflow.keras.datasets import imdb\n",
    "import tensorflow as tf"
   ]
  },
  {
   "cell_type": "code",
   "execution_count": 3,
   "id": "f1498da3",
   "metadata": {},
   "outputs": [],
   "source": [
    "def imbalance_classes(X, y, imb_type='exp', imb_factor=0.01):\n",
    "    np.random.seed(42)\n",
    "    unique_classes = np.unique(y)\n",
    "    num_classes = len(unique_classes)\n",
    "    img_max = len(X) / num_classes\n",
    "\n",
    "    img_num_per_cls = []\n",
    "    if imb_type == 'exp':\n",
    "        for cls_idx in range(num_classes):\n",
    "            num = img_max * (imb_factor**(cls_idx / (num_classes - 1.0)))\n",
    "            img_num_per_cls.append(int(num))\n",
    "    elif imb_type == 'step':\n",
    "        for cls_idx in range(num_classes // 2):\n",
    "            img_num_per_cls.append(int(img_max))\n",
    "        for cls_idx in range(num_classes // 2):\n",
    "            img_num_per_cls.append(int(img_max * imb_factor))\n",
    "    else:\n",
    "        img_num_per_cls.extend([int(img_max)] * num_classes)\n",
    "\n",
    "    X_imb, y_imb = [], []\n",
    "    for cls, img_num in zip(unique_classes, img_num_per_cls):\n",
    "        idx = np.random.choice(np.where(y == cls)[0], img_num, replace=False)\n",
    "        X_imb.append(X[idx])\n",
    "        y_imb.append(y[idx])\n",
    "\n",
    "    X_imb = np.concatenate(X_imb)\n",
    "    y_imb = np.concatenate(y_imb)\n",
    "\n",
    "    return X_imb, y_imb"
   ]
  },
  {
   "cell_type": "code",
   "execution_count": 4,
   "id": "6ef6aaf2",
   "metadata": {},
   "outputs": [],
   "source": [
    "def plot_label_distribution(y, title=\"Label Distribution\", xlabel=\"Labels\", ylabel=\"Frequency\"):\n",
    "    \"\"\"\n",
    "    Plots a histogram showing the distribution of labels.\n",
    "\n",
    "    Parameters:\n",
    "    y (array-like): Array of labels.\n",
    "    title (str): Title of the plot.\n",
    "    xlabel (str): Label for the x-axis.\n",
    "    ylabel (str): Label for the y-axis.\n",
    "    \"\"\"\n",
    "    plt.figure(figsize=(10, 6))\n",
    "    # Use 'bins' to create a bin for each unique label\n",
    "    plt.hist(y, bins=np.arange(np.min(y), np.max(y) + 2) - 0.5, edgecolor='black')\n",
    "    plt.title(title)\n",
    "    plt.xlabel(xlabel)\n",
    "    plt.ylabel(ylabel)\n",
    "    # Set x-ticks to be at the center of each bin\n",
    "    plt.xticks(np.arange(np.min(y), np.max(y) + 1))\n",
    "    plt.grid(axis='y', alpha=0.75)\n",
    "    plt.show()"
   ]
  },
  {
   "cell_type": "code",
   "execution_count": 5,
   "id": "78e42584",
   "metadata": {},
   "outputs": [],
   "source": [
    "def load_imbalanced_imdb(num_words=10000, seed=42):\n",
    "    (X_train, y_train), (X_test, y_test) = imdb.load_data(num_words=num_words)\n",
    "\n",
    "    # Convert to DataFrame for easier manipulation\n",
    "    train_df = pd.DataFrame({'review': X_train, 'sentiment': y_train})\n",
    "\n",
    "    # Create imbalance by removing 90% of negative reviews\n",
    "    negative_reviews = train_df[train_df['sentiment'] == 0]\n",
    "    reduced_negative_reviews = negative_reviews.sample(frac=0.1, random_state=seed)\n",
    "    balanced_positive_reviews = train_df[train_df['sentiment'] == 1]\n",
    "    imbalanced_train_df = pd.concat([reduced_negative_reviews, balanced_positive_reviews])\n",
    "\n",
    "    # Split the features and labels\n",
    "    X_train_imbalanced = imbalanced_train_df['review'].tolist()\n",
    "    y_train_imbalanced = imbalanced_train_df['sentiment'].tolist()\n",
    "\n",
    "    return X_train_imbalanced, X_test, y_train_imbalanced, y_test\n",
    "\n",
    "X_train, X_test, y_train, y_test = load_imbalanced_imdb()"
   ]
  },
  {
   "cell_type": "code",
   "execution_count": 8,
   "id": "39ca5d23",
   "metadata": {},
   "outputs": [
    {
     "data": {
      "image/png": "[encoded data removed]",
      "text/plain": [
       "<Figure size 1000x600 with 1 Axes>"
      ]
     },
     "metadata": {},
     "output_type": "display_data"
    }
   ],
   "source": [
    "plot_label_distribution(y_train)"
   ]
  },
  {
   "cell_type": "code",
   "execution_count": null,
   "id": "5beb3f11",
   "metadata": {},
   "outputs": [],
   "source": []
  }
 ],
 "metadata": {
  "kernelspec": {
   "display_name": "Python 3 (ipykernel)",
   "language": "python",
   "name": "python3"
  },
  "language_info": {
   "codemirror_mode": {
    "name": "ipython",
    "version": 3
   },
   "file_extension": ".py",
   "mimetype": "text/x-python",
   "name": "python",
   "nbconvert_exporter": "python",
   "pygments_lexer": "ipython3",
   "version": "3.11.4"
  }
 },
 "nbformat": 4,
 "nbformat_minor": 5
}
