{
 "cells": [
  {
   "cell_type": "code",
   "execution_count": 1,
   "metadata": {},
   "outputs": [],
   "source": [
    "from sklearn.ensemble import RandomForestClassifier\n",
    "import numpy as np\n",
    "import random\n",
    "import torchvision.transforms as transforms\n",
    "import torchvision\n",
    "import torch\n",
    "from sklearn.metrics import accuracy_score, precision_score, recall_score\n",
    "from torch.utils.data import DataLoader, Dataset\n",
    "from sklearn.model_selection import train_test_split\n",
    "from sklearn.utils import resample"
   ]
  },
  {
   "cell_type": "code",
   "execution_count": 2,
   "metadata": {},
   "outputs": [],
   "source": [
    "from scipy import stats\n",
    "\n",
    "import torch.nn as nn\n",
    "import torch.nn.functional as F\n",
    "\n",
    "import matplotlib.pyplot as plt\n",
    "\n",
    "import random"
   ]
  },
  {
   "cell_type": "code",
   "execution_count": 3,
   "metadata": {},
   "outputs": [
    {
     "name": "stdout",
     "output_type": "stream",
     "text": [
      "Downloading http://yann.lecun.com/exdb/mnist/train-images-idx3-ubyte.gz\n",
      "Downloading http://yann.lecun.com/exdb/mnist/train-images-idx3-ubyte.gz to ./data/MNIST/raw/train-images-idx3-ubyte.gz\n"
     ]
    },
    {
     "name": "stderr",
     "output_type": "stream",
     "text": [
      "100%|███████████████████████████| 9912422/9912422 [00:00<00:00, 10919327.64it/s]\n"
     ]
    },
    {
     "name": "stdout",
     "output_type": "stream",
     "text": [
      "Extracting ./data/MNIST/raw/train-images-idx3-ubyte.gz to ./data/MNIST/raw\n",
      "\n",
      "Downloading http://yann.lecun.com/exdb/mnist/train-labels-idx1-ubyte.gz\n",
      "Downloading http://yann.lecun.com/exdb/mnist/train-labels-idx1-ubyte.gz to ./data/MNIST/raw/train-labels-idx1-ubyte.gz\n"
     ]
    },
    {
     "name": "stderr",
     "output_type": "stream",
     "text": [
      "100%|███████████████████████████████| 28881/28881 [00:00<00:00, 33817893.31it/s]\n"
     ]
    },
    {
     "name": "stdout",
     "output_type": "stream",
     "text": [
      "Extracting ./data/MNIST/raw/train-labels-idx1-ubyte.gz to ./data/MNIST/raw\n",
      "\n",
      "Downloading http://yann.lecun.com/exdb/mnist/t10k-images-idx3-ubyte.gz\n",
      "Downloading http://yann.lecun.com/exdb/mnist/t10k-images-idx3-ubyte.gz to ./data/MNIST/raw/t10k-images-idx3-ubyte.gz\n"
     ]
    },
    {
     "name": "stderr",
     "output_type": "stream",
     "text": [
      "100%|███████████████████████████| 1648877/1648877 [00:00<00:00, 15387933.76it/s]\n"
     ]
    },
    {
     "name": "stdout",
     "output_type": "stream",
     "text": [
      "Extracting ./data/MNIST/raw/t10k-images-idx3-ubyte.gz to ./data/MNIST/raw\n",
      "\n",
      "Downloading http://yann.lecun.com/exdb/mnist/t10k-labels-idx1-ubyte.gz\n",
      "Downloading http://yann.lecun.com/exdb/mnist/t10k-labels-idx1-ubyte.gz to ./data/MNIST/raw/t10k-labels-idx1-ubyte.gz\n"
     ]
    },
    {
     "name": "stderr",
     "output_type": "stream",
     "text": [
      "100%|██████████████████████████████████| 4542/4542 [00:00<00:00, 9102020.43it/s]\n"
     ]
    },
    {
     "name": "stdout",
     "output_type": "stream",
     "text": [
      "Extracting ./data/MNIST/raw/t10k-labels-idx1-ubyte.gz to ./data/MNIST/raw\n",
      "\n"
     ]
    }
   ],
   "source": [
    "class UNet(nn.Module):\n",
    "    def __init__(self, embedding_size=64):\n",
    "        super(UNet, self).__init__()\n",
    "\n",
    "        # Define the encoder part\n",
    "        self.enc_conv1 = nn.Conv2d(1, 16, kernel_size=3, padding=1)\n",
    "        self.enc_conv2 = nn.Conv2d(16, 32, kernel_size=3, padding=1)\n",
    "        self.pool = nn.MaxPool2d(2, 2)\n",
    "\n",
    "        # Define the bottleneck part\n",
    "        self.bottleneck_conv = nn.Conv2d(32, 64, kernel_size=3, padding=1)\n",
    "        self.flatten = nn.Flatten()\n",
    "        self.fc = nn.Linear(7*7*64, embedding_size)\n",
    "\n",
    "    def forward(self, x):\n",
    "        # Encoder\n",
    "        x = F.relu(self.enc_conv1(x))\n",
    "        x = self.pool(x)\n",
    "        x = F.relu(self.enc_conv2(x))\n",
    "        x = self.pool(x)\n",
    "\n",
    "        # Bottleneck\n",
    "        x = F.relu(self.bottleneck_conv(x))\n",
    "        x = self.flatten(x)\n",
    "        x = self.fc(x)\n",
    "\n",
    "        return x\n",
    "\n",
    "model = UNet()\n",
    "transform = transforms.Compose([\n",
    "    transforms.ToTensor(),\n",
    "    transforms.Normalize((0.5,), (0.5,))\n",
    "])\n",
    "\n",
    "train_dataset = torchvision.datasets.MNIST(root='./data', train=True, download=True, transform=transform)\n",
    "test_dataset = torchvision.datasets.MNIST(root='./data', train=False, download=True, transform=transform)\n",
    "\n",
    "train_loader = torch.utils.data.DataLoader(train_dataset, batch_size=64, shuffle=True)\n",
    "test_loader = torch.utils.data.DataLoader(test_dataset, batch_size=64, shuffle=False)\n",
    "def create_binary_dataset(train_dataset, prop_1_to_0):\n",
    "    \"\"\"\n",
    "    prop_1_to_0:  number of images of 1 / number of images of 0\n",
    "    \"\"\"\n",
    "    if prop_1_to_0 > 1:\n",
    "        raise ValueError(\"There should be more zeros than ones\")\n",
    "    zero_data = [data for data in train_dataset if data[1] == 0]\n",
    "    one_data = [data for data in train_dataset if data[1] == 1]\n",
    "    num_ones = int(len(zero_data) * prop_1_to_0)\n",
    "    combined_data = zero_data + one_data[:num_ones]\n",
    "    random.shuffle(combined_data)\n",
    "    return combined_data\n",
    "def split_data(train_dataset):\n",
    "    data = {}\n",
    "    for x in range(10):\n",
    "        data[x] = [data for data in train_dataset if data[1] == x]\n",
    "        random.shuffle(data[x])\n",
    "    return data\n",
    "def create_biased_dataset(data, probs):\n",
    "    '''\n",
    "    probs: [p_0, p_1, ..., p_9]\n",
    "    returns a biased dataset according to probs\n",
    "    '''\n",
    "    max_p = max(probs)\n",
    "    max_x = np.argmax(probs)\n",
    "    max_n = 0.9 * len(data[max_x])\n",
    "    res = []\n",
    "    for x, lis in data.items():\n",
    "        n = int(max_n * probs[x] / max_p)\n",
    "        res += data[x][:n]\n",
    "    random.shuffle(res)\n",
    "    return res\n",
    "def encode_data(dataset):\n",
    "  model.eval() # UNet\n",
    "  return [(model(image.unsqueeze(0)), label) for image, label in dataset]"
   ]
  },
  {
   "cell_type": "code",
   "execution_count": 4,
   "metadata": {},
   "outputs": [],
   "source": [
    "def evaluate_model(data):\n",
    "    # Load and process the dataset\n",
    "    \n",
    "\n",
    "    # Split the data into training and testing sets\n",
    "    X_train, X_test, y_train, y_test = train_test_split(X, y, test_size=0.2, random_state=42)\n",
    "\n",
    "    # Balance the training set\n",
    "    class_counts = np.bincount(y_train.astype(int))\n",
    "    minority_class = np.argmin(class_counts)\n",
    "    resample_count = class_counts[1 - minority_class] - class_counts[minority_class]\n",
    "    X_train_minority = X_train[y_train == minority_class]\n",
    "    y_train_minority = y_train[y_train == minority_class]\n",
    "    X_train_minority_upsampled, y_train_minority_upsampled = resample(X_train_minority, y_train_minority, replace=True, n_samples=resample_count, random_state=42)\n",
    "    X_train_balanced = np.vstack((X_train, X_train_minority_upsampled))\n",
    "    y_train_balanced = np.append(y_train, y_train_minority_upsampled)\n",
    "\n",
    "    # Train the RandomForestClassifier\n",
    "    classifier = RandomForestClassifier()\n",
    "    classifier.fit(X_train_balanced, y_train_balanced)\n",
    "\n",
    "    # Adjust classifier probabilities\n",
    "    target_class_counts = np.bincount(y_test.astype(int))\n",
    "    target_majority_proportion = target_class_counts[1 - minority_class] / len(y_test)\n",
    "    target_minority_proportion = target_class_counts[minority_class] / len(y_test)\n",
    "    majority_proba_ratio = target_majority_proportion / 0.5  # Training set is balanced\n",
    "    minority_proba_ratio = target_minority_proportion / 0.5  # Training set is balanced\n",
    "    y_proba = classifier.predict_proba(X_test)\n",
    "    y_proba[:, 1 - minority_class] *= majority_proba_ratio\n",
    "    y_proba[:, minority_class] *= minority_proba_ratio\n",
    "    y_proba /= y_proba.sum(axis=1, keepdims=True)\n",
    "    y_pred = np.argmax(y_proba, axis=1)\n",
    "\n",
    "    # Calculate and return evaluation metrics\n",
    "    accuracy = accuracy_score(y_test, y_pred)\n",
    "    recall = recall_score(y_test, y_pred)\n",
    "    precision = precision_score(y_test, y_pred)\n",
    "\n",
    "    return accuracy, recall, precision"
   ]
  },
  {
   "cell_type": "code",
   "execution_count": 5,
   "metadata": {},
   "outputs": [
    {
     "ename": "NameError",
     "evalue": "name 'X' is not defined",
     "output_type": "error",
     "traceback": [
      "\u001b[0;31m---------------------------------------------------------------------------\u001b[0m",
      "\u001b[0;31mNameError\u001b[0m                                 Traceback (most recent call last)",
      "Cell \u001b[0;32mIn[5], line 1\u001b[0m\n\u001b[0;32m----> 1\u001b[0m evaluate_model(train_dataset)\n",
      "Cell \u001b[0;32mIn[4], line 6\u001b[0m, in \u001b[0;36mevaluate_model\u001b[0;34m(data)\u001b[0m\n\u001b[1;32m      1\u001b[0m \u001b[38;5;28;01mdef\u001b[39;00m \u001b[38;5;21mevaluate_model\u001b[39m(data):\n\u001b[1;32m      2\u001b[0m     \u001b[38;5;66;03m# Load and process the dataset\u001b[39;00m\n\u001b[1;32m      3\u001b[0m \n\u001b[1;32m      4\u001b[0m \n\u001b[1;32m      5\u001b[0m     \u001b[38;5;66;03m# Split the data into training and testing sets\u001b[39;00m\n\u001b[0;32m----> 6\u001b[0m     X_train, X_test, y_train, y_test \u001b[38;5;241m=\u001b[39m train_test_split(X, y, test_size\u001b[38;5;241m=\u001b[39m\u001b[38;5;241m0.2\u001b[39m, random_state\u001b[38;5;241m=\u001b[39m\u001b[38;5;241m42\u001b[39m)\n\u001b[1;32m      8\u001b[0m     \u001b[38;5;66;03m# Balance the training set\u001b[39;00m\n\u001b[1;32m      9\u001b[0m     class_counts \u001b[38;5;241m=\u001b[39m np\u001b[38;5;241m.\u001b[39mbincount(y_train\u001b[38;5;241m.\u001b[39mastype(\u001b[38;5;28mint\u001b[39m))\n",
      "\u001b[0;31mNameError\u001b[0m: name 'X' is not defined"
     ]
    }
   ],
   "source": [
    "evaluate_model(train_dataset)"
   ]
  },
  {
   "cell_type": "code",
   "execution_count": null,
   "metadata": {},
   "outputs": [],
   "source": []
  }
 ],
 "metadata": {
  "kernelspec": {
   "display_name": "Python 3 (ipykernel)",
   "language": "python",
   "name": "python3"
  },
  "language_info": {
   "codemirror_mode": {
    "name": "ipython",
    "version": 3
   },
   "file_extension": ".py",
   "mimetype": "text/x-python",
   "name": "python",
   "nbconvert_exporter": "python",
   "pygments_lexer": "ipython3",
   "version": "3.11.4"
  }
 },
 "nbformat": 4,
 "nbformat_minor": 2
}
